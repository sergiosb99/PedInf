{
  "nbformat": 4,
  "nbformat_minor": 0,
  "metadata": {
    "colab": {
      "name": "Selección de Datos: Casos Clinicos.ipynb",
      "provenance": [],
      "collapsed_sections": []
    },
    "kernelspec": {
      "name": "python3",
      "display_name": "Python 3"
    },
    "language_info": {
      "name": "python"
    }
  },
  "cells": [
    {
      "cell_type": "markdown",
      "metadata": {
        "id": "_ogiceytvT_u"
      },
      "source": [
        "# 0. Presentación\n",
        "\n",
        "En este cuaderno se realiza la etapa del ***Proceso KDD de Selección de Datos*** en este caso, aplicándola sobre el conjunto de datos de casos clínicos de enfermedades, para poder realizar el análisis de datos en su vertiente de diagnosticar enfermedades infecciosas a través de los datos obtenidos."
      ]
    },
    {
      "cell_type": "markdown",
      "metadata": {
        "id": "BXhCh-bcVZ70"
      },
      "source": [
        "# 1. Librerías \n",
        "\n",
        "Antes de iniciar cualquier tarea debemos de asegurarnos de que las librerías que sean necesarias están correctamente importadas. "
      ]
    },
    {
      "cell_type": "code",
      "metadata": {
        "id": "6hQiQ4PoXNaH"
      },
      "source": [
        "# Carga y manipulación de datos\n",
        "from google.colab import files\n",
        "import io\n",
        " \n",
        "# Librería para manipular DataFrames\n",
        "import pandas as pd"
      ],
      "execution_count": null,
      "outputs": []
    },
    {
      "cell_type": "markdown",
      "metadata": {
        "id": "MGW02h_lvjKt"
      },
      "source": [
        "# 2. Carga de datos\n",
        "\n",
        "El primer paso es subir todos los archivos CSV que sean necesarios para llevar a cabo este proceso. En este caso cargamos los datos correspondientes a la base de datos anonimizada encontrada en Kaggle. Para ello utilizaremos las herramientas que nos ofrece Google Colab a la hora de subir archivos. \n",
        "\n"
      ]
    },
    {
      "cell_type": "code",
      "metadata": {
        "id": "A0boMI4fX82f",
        "colab": {
          "base_uri": "https://localhost:8080/",
          "height": 226
        },
        "outputId": "b3a9818e-147e-405b-b381-91fe3b29fec4"
      },
      "source": [
        "casos_clinicos = pd.read_csv(\"clinical_cases.csv\", sep=',')\n",
        "casos_clinicos.head()"
      ],
      "execution_count": null,
      "outputs": [
        {
          "output_type": "execute_result",
          "data": {
            "text/html": [
              "<div>\n",
              "<style scoped>\n",
              "    .dataframe tbody tr th:only-of-type {\n",
              "        vertical-align: middle;\n",
              "    }\n",
              "\n",
              "    .dataframe tbody tr th {\n",
              "        vertical-align: top;\n",
              "    }\n",
              "\n",
              "    .dataframe thead th {\n",
              "        text-align: right;\n",
              "    }\n",
              "</style>\n",
              "<table border=\"1\" class=\"dataframe\">\n",
              "  <thead>\n",
              "    <tr style=\"text-align: right;\">\n",
              "      <th></th>\n",
              "      <th>Disease</th>\n",
              "      <th>Symptom_1</th>\n",
              "      <th>Symptom_2</th>\n",
              "      <th>Symptom_3</th>\n",
              "      <th>Symptom_4</th>\n",
              "      <th>Symptom_5</th>\n",
              "      <th>Symptom_6</th>\n",
              "      <th>Symptom_7</th>\n",
              "      <th>Symptom_8</th>\n",
              "      <th>Symptom_9</th>\n",
              "      <th>Symptom_10</th>\n",
              "      <th>Symptom_11</th>\n",
              "      <th>Symptom_12</th>\n",
              "      <th>Symptom_13</th>\n",
              "      <th>Symptom_14</th>\n",
              "      <th>Symptom_15</th>\n",
              "      <th>Symptom_16</th>\n",
              "      <th>Symptom_17</th>\n",
              "    </tr>\n",
              "  </thead>\n",
              "  <tbody>\n",
              "    <tr>\n",
              "      <th>0</th>\n",
              "      <td>Fungalinfection</td>\n",
              "      <td>itching</td>\n",
              "      <td>skin_rash</td>\n",
              "      <td>nodal_skin_eruptions</td>\n",
              "      <td>dischromic_patches</td>\n",
              "      <td>NaN</td>\n",
              "      <td>NaN</td>\n",
              "      <td>NaN</td>\n",
              "      <td>NaN</td>\n",
              "      <td>NaN</td>\n",
              "      <td>NaN</td>\n",
              "      <td>NaN</td>\n",
              "      <td>NaN</td>\n",
              "      <td>NaN</td>\n",
              "      <td>NaN</td>\n",
              "      <td>NaN</td>\n",
              "      <td>NaN</td>\n",
              "      <td>NaN</td>\n",
              "    </tr>\n",
              "    <tr>\n",
              "      <th>1</th>\n",
              "      <td>Fungalinfection</td>\n",
              "      <td>skin_rash</td>\n",
              "      <td>nodal_skin_eruptions</td>\n",
              "      <td>dischromic_patches</td>\n",
              "      <td>NaN</td>\n",
              "      <td>NaN</td>\n",
              "      <td>NaN</td>\n",
              "      <td>NaN</td>\n",
              "      <td>NaN</td>\n",
              "      <td>NaN</td>\n",
              "      <td>NaN</td>\n",
              "      <td>NaN</td>\n",
              "      <td>NaN</td>\n",
              "      <td>NaN</td>\n",
              "      <td>NaN</td>\n",
              "      <td>NaN</td>\n",
              "      <td>NaN</td>\n",
              "      <td>NaN</td>\n",
              "    </tr>\n",
              "    <tr>\n",
              "      <th>2</th>\n",
              "      <td>Fungalinfection</td>\n",
              "      <td>itching</td>\n",
              "      <td>nodal_skin_eruptions</td>\n",
              "      <td>dischromic_patches</td>\n",
              "      <td>NaN</td>\n",
              "      <td>NaN</td>\n",
              "      <td>NaN</td>\n",
              "      <td>NaN</td>\n",
              "      <td>NaN</td>\n",
              "      <td>NaN</td>\n",
              "      <td>NaN</td>\n",
              "      <td>NaN</td>\n",
              "      <td>NaN</td>\n",
              "      <td>NaN</td>\n",
              "      <td>NaN</td>\n",
              "      <td>NaN</td>\n",
              "      <td>NaN</td>\n",
              "      <td>NaN</td>\n",
              "    </tr>\n",
              "    <tr>\n",
              "      <th>3</th>\n",
              "      <td>Fungalinfection</td>\n",
              "      <td>itching</td>\n",
              "      <td>skin_rash</td>\n",
              "      <td>dischromic_patches</td>\n",
              "      <td>NaN</td>\n",
              "      <td>NaN</td>\n",
              "      <td>NaN</td>\n",
              "      <td>NaN</td>\n",
              "      <td>NaN</td>\n",
              "      <td>NaN</td>\n",
              "      <td>NaN</td>\n",
              "      <td>NaN</td>\n",
              "      <td>NaN</td>\n",
              "      <td>NaN</td>\n",
              "      <td>NaN</td>\n",
              "      <td>NaN</td>\n",
              "      <td>NaN</td>\n",
              "      <td>NaN</td>\n",
              "    </tr>\n",
              "    <tr>\n",
              "      <th>4</th>\n",
              "      <td>Fungalinfection</td>\n",
              "      <td>itching</td>\n",
              "      <td>skin_rash</td>\n",
              "      <td>nodal_skin_eruptions</td>\n",
              "      <td>NaN</td>\n",
              "      <td>NaN</td>\n",
              "      <td>NaN</td>\n",
              "      <td>NaN</td>\n",
              "      <td>NaN</td>\n",
              "      <td>NaN</td>\n",
              "      <td>NaN</td>\n",
              "      <td>NaN</td>\n",
              "      <td>NaN</td>\n",
              "      <td>NaN</td>\n",
              "      <td>NaN</td>\n",
              "      <td>NaN</td>\n",
              "      <td>NaN</td>\n",
              "      <td>NaN</td>\n",
              "    </tr>\n",
              "  </tbody>\n",
              "</table>\n",
              "</div>"
            ],
            "text/plain": [
              "           Disease  Symptom_1  ... Symptom_16 Symptom_17\n",
              "0  Fungalinfection    itching  ...        NaN        NaN\n",
              "1  Fungalinfection  skin_rash  ...        NaN        NaN\n",
              "2  Fungalinfection    itching  ...        NaN        NaN\n",
              "3  Fungalinfection    itching  ...        NaN        NaN\n",
              "4  Fungalinfection    itching  ...        NaN        NaN\n",
              "\n",
              "[5 rows x 18 columns]"
            ]
          },
          "metadata": {
            "tags": []
          },
          "execution_count": 2
        }
      ]
    },
    {
      "cell_type": "markdown",
      "metadata": {
        "id": "0AP0HIbQvsjn"
      },
      "source": [
        "# 3. Selección de enf. infecciosas\n",
        "\n",
        "Como se puede comprobar, estamos ante un conjunto de datos de casos clínicos de enfermedades, sin embargo para este estudio simplemente se necesitan ***enfermedades infecciosas***.\n",
        "\n",
        "Por tanto, comprobamos cuales son cada una de las enfermedades que posee el conjunto de datos."
      ]
    },
    {
      "cell_type": "code",
      "metadata": {
        "colab": {
          "base_uri": "https://localhost:8080/"
        },
        "id": "LT2IBwFxYDJQ",
        "outputId": "51e30097-bab3-4100-b54b-1b264a31f0fa"
      },
      "source": [
        "casos_clinicos[\"Disease\"].unique()"
      ],
      "execution_count": null,
      "outputs": [
        {
          "output_type": "execute_result",
          "data": {
            "text/plain": [
              "array(['Fungalinfection', 'Allergy', 'GERD', 'Chroniccholestasis',\n",
              "       'DrugReaction', 'Pepticulcerdiseae', 'AIDS', 'Diabetes',\n",
              "       'Gastroenteritis', 'BronchialAsthma', 'Hypertension', 'Migraine',\n",
              "       'Cervicalspondylosis', 'Paralysis(brainhemorrhage)', 'Jaundice',\n",
              "       'Malaria', 'Chickenpox', 'Dengue', 'Typhoid', 'hepatitisA',\n",
              "       'HepatitisB', 'HepatitisC', 'HepatitisD', 'HepatitisE',\n",
              "       'Alcoholichepatitis', 'Tuberculosis', 'CommonCold', 'Pneumonia',\n",
              "       'Dimorphichemmorhoids(piles)', 'Heartattack', 'Varicoseveins',\n",
              "       'Hypothyroidism', 'Hyperthyroidism', 'Hypoglycemia',\n",
              "       'Osteoarthristis', 'Arthritis',\n",
              "       '(vertigo)ParoymsalPositionalVertigo', 'Acne',\n",
              "       'Urinarytractinfection', 'Psoriasis', 'Impetigo'], dtype=object)"
            ]
          },
          "metadata": {
            "tags": []
          },
          "execution_count": 3
        }
      ]
    },
    {
      "cell_type": "markdown",
      "metadata": {
        "id": "s6uo1HdrXOny"
      },
      "source": [
        "El dataset cuenta con un total de 41 enfermedades. De ellas, infecciosas son 18, que son las siguientes:\n",
        "\n",
        "* Infección micótica\n",
        "* Úlcera péptica\n",
        "* Gastroenteritis\n",
        "* Malaria\n",
        "* Varicela\n",
        "* Dengue\n",
        "* Tifoidea\n",
        "* Hepatitis A\n",
        "* Hepatitis B\n",
        "* Hepatitis C \n",
        "* Hepatitis D \n",
        "* Hepatitis E\n",
        "* Tuberculosis \n",
        "* Resfriado común\n",
        "* Neumonía\n",
        "* Hipotiroidismo\n",
        "* Hipertiroidismo\n",
        "* Impétigo\n",
        "\n",
        "\n",
        "Por tanto, se desechan las 22 enfermedades restantes, para ello, creamos un dataset nuevo, ***casos_infecciosas***."
      ]
    },
    {
      "cell_type": "code",
      "metadata": {
        "id": "iV4HF__bstOU"
      },
      "source": [
        "## NUEVO DATASET CON SOLO ENFERMEDADES INFECCIOSAS.\n",
        "casos_infecciosas = casos_clinicos\n",
        "casos_infecciosas = casos_infecciosas.drop(casos_infecciosas[casos_infecciosas['Disease']=='Allergy'].index)\n",
        "casos_infecciosas = casos_infecciosas.drop(casos_infecciosas[casos_infecciosas['Disease']=='GERD'].index)\n",
        "casos_infecciosas = casos_infecciosas.drop(casos_infecciosas[casos_infecciosas['Disease']=='Chroniccholestasis'].index)\n",
        "casos_infecciosas = casos_infecciosas.drop(casos_infecciosas[casos_infecciosas['Disease']=='DrugReaction'].index)\n",
        "casos_infecciosas = casos_infecciosas.drop(casos_infecciosas[casos_infecciosas['Disease']=='AIDS'].index)\n",
        "casos_infecciosas = casos_infecciosas.drop(casos_infecciosas[casos_infecciosas['Disease']=='Diabetes'].index)\n",
        "casos_infecciosas = casos_infecciosas.drop(casos_infecciosas[casos_infecciosas['Disease']=='BronchialAsthma'].index)\n",
        "casos_infecciosas = casos_infecciosas.drop(casos_infecciosas[casos_infecciosas['Disease']=='Hypertension'].index)\n",
        "casos_infecciosas = casos_infecciosas.drop(casos_infecciosas[casos_infecciosas['Disease']=='Migraine'].index)\n",
        "casos_infecciosas = casos_infecciosas.drop(casos_infecciosas[casos_infecciosas['Disease']=='Cervicalspondylosis'].index)\n",
        "casos_infecciosas = casos_infecciosas.drop(casos_infecciosas[casos_infecciosas['Disease']=='Paralysis(brainhemorrhage)'].index)\n",
        "casos_infecciosas = casos_infecciosas.drop(casos_infecciosas[casos_infecciosas['Disease']=='Alcoholichepatitis'].index)\n",
        "casos_infecciosas = casos_infecciosas.drop(casos_infecciosas[casos_infecciosas['Disease']=='Dimorphichemmorhoids(piles)'].index)\n",
        "casos_infecciosas = casos_infecciosas.drop(casos_infecciosas[casos_infecciosas['Disease']=='Heartattack'].index)\n",
        "casos_infecciosas = casos_infecciosas.drop(casos_infecciosas[casos_infecciosas['Disease']=='Varicoseveins'].index)\n",
        "casos_infecciosas = casos_infecciosas.drop(casos_infecciosas[casos_infecciosas['Disease']=='Hypoglycemia'].index)\n",
        "casos_infecciosas = casos_infecciosas.drop(casos_infecciosas[casos_infecciosas['Disease']=='Osteoarthristis'].index)\n",
        "casos_infecciosas = casos_infecciosas.drop(casos_infecciosas[casos_infecciosas['Disease']=='Arthritis'].index)\n",
        "casos_infecciosas = casos_infecciosas.drop(casos_infecciosas[casos_infecciosas['Disease']=='(vertigo)ParoymsalPositionalVertigo'].index)\n",
        "casos_infecciosas = casos_infecciosas.drop(casos_infecciosas[casos_infecciosas['Disease']=='Urinarytractinfection'].index)\n",
        "casos_infecciosas = casos_infecciosas.drop(casos_infecciosas[casos_infecciosas['Disease']=='Psoriasis'].index)\n",
        "casos_infecciosas = casos_infecciosas.drop(casos_infecciosas[casos_infecciosas['Disease']=='Jaundice'].index)\n",
        "casos_infecciosas = casos_infecciosas.drop(casos_infecciosas[casos_infecciosas['Disease']=='Acne'].index)"
      ],
      "execution_count": null,
      "outputs": []
    },
    {
      "cell_type": "markdown",
      "metadata": {
        "id": "ftwIex8cZkjg"
      },
      "source": [
        "Mostramos el dataframe resultante"
      ]
    },
    {
      "cell_type": "code",
      "metadata": {
        "colab": {
          "base_uri": "https://localhost:8080/",
          "height": 444
        },
        "id": "ES_FLh0nuEQM",
        "outputId": "5d88e6aa-174d-469d-86c4-8b4be22d2033"
      },
      "source": [
        "casos_infecciosas"
      ],
      "execution_count": null,
      "outputs": [
        {
          "output_type": "execute_result",
          "data": {
            "text/html": [
              "<div>\n",
              "<style scoped>\n",
              "    .dataframe tbody tr th:only-of-type {\n",
              "        vertical-align: middle;\n",
              "    }\n",
              "\n",
              "    .dataframe tbody tr th {\n",
              "        vertical-align: top;\n",
              "    }\n",
              "\n",
              "    .dataframe thead th {\n",
              "        text-align: right;\n",
              "    }\n",
              "</style>\n",
              "<table border=\"1\" class=\"dataframe\">\n",
              "  <thead>\n",
              "    <tr style=\"text-align: right;\">\n",
              "      <th></th>\n",
              "      <th>Disease</th>\n",
              "      <th>Symptom_1</th>\n",
              "      <th>Symptom_2</th>\n",
              "      <th>Symptom_3</th>\n",
              "      <th>Symptom_4</th>\n",
              "      <th>Symptom_5</th>\n",
              "      <th>Symptom_6</th>\n",
              "      <th>Symptom_7</th>\n",
              "      <th>Symptom_8</th>\n",
              "      <th>Symptom_9</th>\n",
              "      <th>Symptom_10</th>\n",
              "      <th>Symptom_11</th>\n",
              "      <th>Symptom_12</th>\n",
              "      <th>Symptom_13</th>\n",
              "      <th>Symptom_14</th>\n",
              "      <th>Symptom_15</th>\n",
              "      <th>Symptom_16</th>\n",
              "      <th>Symptom_17</th>\n",
              "    </tr>\n",
              "  </thead>\n",
              "  <tbody>\n",
              "    <tr>\n",
              "      <th>0</th>\n",
              "      <td>Fungalinfection</td>\n",
              "      <td>itching</td>\n",
              "      <td>skin_rash</td>\n",
              "      <td>nodal_skin_eruptions</td>\n",
              "      <td>dischromic_patches</td>\n",
              "      <td>NaN</td>\n",
              "      <td>NaN</td>\n",
              "      <td>NaN</td>\n",
              "      <td>NaN</td>\n",
              "      <td>NaN</td>\n",
              "      <td>NaN</td>\n",
              "      <td>NaN</td>\n",
              "      <td>NaN</td>\n",
              "      <td>NaN</td>\n",
              "      <td>NaN</td>\n",
              "      <td>NaN</td>\n",
              "      <td>NaN</td>\n",
              "      <td>NaN</td>\n",
              "    </tr>\n",
              "    <tr>\n",
              "      <th>1</th>\n",
              "      <td>Fungalinfection</td>\n",
              "      <td>skin_rash</td>\n",
              "      <td>nodal_skin_eruptions</td>\n",
              "      <td>dischromic_patches</td>\n",
              "      <td>NaN</td>\n",
              "      <td>NaN</td>\n",
              "      <td>NaN</td>\n",
              "      <td>NaN</td>\n",
              "      <td>NaN</td>\n",
              "      <td>NaN</td>\n",
              "      <td>NaN</td>\n",
              "      <td>NaN</td>\n",
              "      <td>NaN</td>\n",
              "      <td>NaN</td>\n",
              "      <td>NaN</td>\n",
              "      <td>NaN</td>\n",
              "      <td>NaN</td>\n",
              "      <td>NaN</td>\n",
              "    </tr>\n",
              "    <tr>\n",
              "      <th>2</th>\n",
              "      <td>Fungalinfection</td>\n",
              "      <td>itching</td>\n",
              "      <td>nodal_skin_eruptions</td>\n",
              "      <td>dischromic_patches</td>\n",
              "      <td>NaN</td>\n",
              "      <td>NaN</td>\n",
              "      <td>NaN</td>\n",
              "      <td>NaN</td>\n",
              "      <td>NaN</td>\n",
              "      <td>NaN</td>\n",
              "      <td>NaN</td>\n",
              "      <td>NaN</td>\n",
              "      <td>NaN</td>\n",
              "      <td>NaN</td>\n",
              "      <td>NaN</td>\n",
              "      <td>NaN</td>\n",
              "      <td>NaN</td>\n",
              "      <td>NaN</td>\n",
              "    </tr>\n",
              "    <tr>\n",
              "      <th>3</th>\n",
              "      <td>Fungalinfection</td>\n",
              "      <td>itching</td>\n",
              "      <td>skin_rash</td>\n",
              "      <td>dischromic_patches</td>\n",
              "      <td>NaN</td>\n",
              "      <td>NaN</td>\n",
              "      <td>NaN</td>\n",
              "      <td>NaN</td>\n",
              "      <td>NaN</td>\n",
              "      <td>NaN</td>\n",
              "      <td>NaN</td>\n",
              "      <td>NaN</td>\n",
              "      <td>NaN</td>\n",
              "      <td>NaN</td>\n",
              "      <td>NaN</td>\n",
              "      <td>NaN</td>\n",
              "      <td>NaN</td>\n",
              "      <td>NaN</td>\n",
              "    </tr>\n",
              "    <tr>\n",
              "      <th>4</th>\n",
              "      <td>Fungalinfection</td>\n",
              "      <td>itching</td>\n",
              "      <td>skin_rash</td>\n",
              "      <td>nodal_skin_eruptions</td>\n",
              "      <td>NaN</td>\n",
              "      <td>NaN</td>\n",
              "      <td>NaN</td>\n",
              "      <td>NaN</td>\n",
              "      <td>NaN</td>\n",
              "      <td>NaN</td>\n",
              "      <td>NaN</td>\n",
              "      <td>NaN</td>\n",
              "      <td>NaN</td>\n",
              "      <td>NaN</td>\n",
              "      <td>NaN</td>\n",
              "      <td>NaN</td>\n",
              "      <td>NaN</td>\n",
              "      <td>NaN</td>\n",
              "    </tr>\n",
              "    <tr>\n",
              "      <th>...</th>\n",
              "      <td>...</td>\n",
              "      <td>...</td>\n",
              "      <td>...</td>\n",
              "      <td>...</td>\n",
              "      <td>...</td>\n",
              "      <td>...</td>\n",
              "      <td>...</td>\n",
              "      <td>...</td>\n",
              "      <td>...</td>\n",
              "      <td>...</td>\n",
              "      <td>...</td>\n",
              "      <td>...</td>\n",
              "      <td>...</td>\n",
              "      <td>...</td>\n",
              "      <td>...</td>\n",
              "      <td>...</td>\n",
              "      <td>...</td>\n",
              "      <td>...</td>\n",
              "    </tr>\n",
              "    <tr>\n",
              "      <th>4905</th>\n",
              "      <td>CommonCold</td>\n",
              "      <td>continuous_sneezing</td>\n",
              "      <td>chills</td>\n",
              "      <td>fatigue</td>\n",
              "      <td>cough</td>\n",
              "      <td>high_fever</td>\n",
              "      <td>headache</td>\n",
              "      <td>swelled_lymph_nodes</td>\n",
              "      <td>malaise</td>\n",
              "      <td>phlegm</td>\n",
              "      <td>throat_irritation</td>\n",
              "      <td>redness_of_eyes</td>\n",
              "      <td>sinus_pressure</td>\n",
              "      <td>runny_nose</td>\n",
              "      <td>congestion</td>\n",
              "      <td>chest_pain</td>\n",
              "      <td>loss_of_smell</td>\n",
              "      <td>muscle_pain</td>\n",
              "    </tr>\n",
              "    <tr>\n",
              "      <th>4906</th>\n",
              "      <td>Pneumonia</td>\n",
              "      <td>chills</td>\n",
              "      <td>fatigue</td>\n",
              "      <td>cough</td>\n",
              "      <td>high_fever</td>\n",
              "      <td>breathlessness</td>\n",
              "      <td>sweating</td>\n",
              "      <td>malaise</td>\n",
              "      <td>phlegm</td>\n",
              "      <td>chest_pain</td>\n",
              "      <td>fast_heart_rate</td>\n",
              "      <td>rusty_sputum</td>\n",
              "      <td>NaN</td>\n",
              "      <td>NaN</td>\n",
              "      <td>NaN</td>\n",
              "      <td>NaN</td>\n",
              "      <td>NaN</td>\n",
              "      <td>NaN</td>\n",
              "    </tr>\n",
              "    <tr>\n",
              "      <th>4910</th>\n",
              "      <td>Hypothyroidism</td>\n",
              "      <td>fatigue</td>\n",
              "      <td>weight_gain</td>\n",
              "      <td>cold_hands_and_feets</td>\n",
              "      <td>mood_swings</td>\n",
              "      <td>lethargy</td>\n",
              "      <td>dizziness</td>\n",
              "      <td>puffy_face_and_eyes</td>\n",
              "      <td>enlarged_thyroid</td>\n",
              "      <td>brittle_nails</td>\n",
              "      <td>swollen_extremeties</td>\n",
              "      <td>depression</td>\n",
              "      <td>irritability</td>\n",
              "      <td>abnormal_menstruation</td>\n",
              "      <td>NaN</td>\n",
              "      <td>NaN</td>\n",
              "      <td>NaN</td>\n",
              "      <td>NaN</td>\n",
              "    </tr>\n",
              "    <tr>\n",
              "      <th>4911</th>\n",
              "      <td>Hyperthyroidism</td>\n",
              "      <td>fatigue</td>\n",
              "      <td>mood_swings</td>\n",
              "      <td>weight_loss</td>\n",
              "      <td>restlessness</td>\n",
              "      <td>sweating</td>\n",
              "      <td>diarrhoea</td>\n",
              "      <td>fast_heart_rate</td>\n",
              "      <td>excessive_hunger</td>\n",
              "      <td>muscle_weakness</td>\n",
              "      <td>irritability</td>\n",
              "      <td>abnormal_menstruation</td>\n",
              "      <td>NaN</td>\n",
              "      <td>NaN</td>\n",
              "      <td>NaN</td>\n",
              "      <td>NaN</td>\n",
              "      <td>NaN</td>\n",
              "      <td>NaN</td>\n",
              "    </tr>\n",
              "    <tr>\n",
              "      <th>4919</th>\n",
              "      <td>Impetigo</td>\n",
              "      <td>skin_rash</td>\n",
              "      <td>high_fever</td>\n",
              "      <td>blister</td>\n",
              "      <td>red_sore_around_nose</td>\n",
              "      <td>yellow_crust_ooze</td>\n",
              "      <td>NaN</td>\n",
              "      <td>NaN</td>\n",
              "      <td>NaN</td>\n",
              "      <td>NaN</td>\n",
              "      <td>NaN</td>\n",
              "      <td>NaN</td>\n",
              "      <td>NaN</td>\n",
              "      <td>NaN</td>\n",
              "      <td>NaN</td>\n",
              "      <td>NaN</td>\n",
              "      <td>NaN</td>\n",
              "      <td>NaN</td>\n",
              "    </tr>\n",
              "  </tbody>\n",
              "</table>\n",
              "<p>2160 rows × 18 columns</p>\n",
              "</div>"
            ],
            "text/plain": [
              "              Disease            Symptom_1  ...     Symptom_16   Symptom_17\n",
              "0     Fungalinfection              itching  ...            NaN          NaN\n",
              "1     Fungalinfection            skin_rash  ...            NaN          NaN\n",
              "2     Fungalinfection              itching  ...            NaN          NaN\n",
              "3     Fungalinfection              itching  ...            NaN          NaN\n",
              "4     Fungalinfection              itching  ...            NaN          NaN\n",
              "...               ...                  ...  ...            ...          ...\n",
              "4905       CommonCold  continuous_sneezing  ...  loss_of_smell  muscle_pain\n",
              "4906        Pneumonia               chills  ...            NaN          NaN\n",
              "4910   Hypothyroidism              fatigue  ...            NaN          NaN\n",
              "4911  Hyperthyroidism              fatigue  ...            NaN          NaN\n",
              "4919         Impetigo            skin_rash  ...            NaN          NaN\n",
              "\n",
              "[2160 rows x 18 columns]"
            ]
          },
          "metadata": {
            "tags": []
          },
          "execution_count": 5
        }
      ]
    },
    {
      "cell_type": "code",
      "metadata": {
        "colab": {
          "base_uri": "https://localhost:8080/"
        },
        "id": "sagGF1xosoXa",
        "outputId": "c1957637-e9a1-4020-871d-db5edddf5fbc"
      },
      "source": [
        "casos_infecciosas[\"Disease\"].unique()"
      ],
      "execution_count": null,
      "outputs": [
        {
          "output_type": "execute_result",
          "data": {
            "text/plain": [
              "array(['Fungalinfection', 'Pepticulcerdiseae', 'Gastroenteritis',\n",
              "       'Malaria', 'Chickenpox', 'Dengue', 'Typhoid', 'hepatitisA',\n",
              "       'HepatitisB', 'HepatitisC', 'HepatitisD', 'HepatitisE',\n",
              "       'Tuberculosis', 'CommonCold', 'Pneumonia', 'Hypothyroidism',\n",
              "       'Hyperthyroidism', 'Impetigo'], dtype=object)"
            ]
          },
          "metadata": {
            "tags": []
          },
          "execution_count": 6
        }
      ]
    },
    {
      "cell_type": "markdown",
      "metadata": {
        "id": "C00PXuB5wS4B"
      },
      "source": [
        "# 4. Datos de Web Scraping\n",
        "Ahora, los datos extraidos mediante el uso de Web Scraping, deben de ser añadidos a la base de datos clínica. Para ello, se deben de adaptar a su formato, buscando semejanzas entre los síntomas, para ver si concuerdan con algunos de los ya presentes en la base de datos clínica, o por el contrario, no están presentes y por tanto, se deben de añadir."
      ]
    },
    {
      "cell_type": "code",
      "metadata": {
        "colab": {
          "base_uri": "https://localhost:8080/",
          "height": 424
        },
        "id": "Mekxvzkjxyt-",
        "outputId": "053fbd11-099d-45e7-a95c-ed35e9fb2d5d"
      },
      "source": [
        "sintomas_ws = pd.read_csv(\"ws_symptoms.csv\", sep=',')\n",
        "sintomas_ws = sintomas_ws.drop(['Unnamed: 0'], axis = 1)\n",
        "sintomas_ws"
      ],
      "execution_count": null,
      "outputs": [
        {
          "output_type": "execute_result",
          "data": {
            "text/html": [
              "<div>\n",
              "<style scoped>\n",
              "    .dataframe tbody tr th:only-of-type {\n",
              "        vertical-align: middle;\n",
              "    }\n",
              "\n",
              "    .dataframe tbody tr th {\n",
              "        vertical-align: top;\n",
              "    }\n",
              "\n",
              "    .dataframe thead th {\n",
              "        text-align: right;\n",
              "    }\n",
              "</style>\n",
              "<table border=\"1\" class=\"dataframe\">\n",
              "  <thead>\n",
              "    <tr style=\"text-align: right;\">\n",
              "      <th></th>\n",
              "      <th>Disease</th>\n",
              "      <th>Symptom</th>\n",
              "    </tr>\n",
              "  </thead>\n",
              "  <tbody>\n",
              "    <tr>\n",
              "      <th>0</th>\n",
              "      <td>Kawasaki Disease</td>\n",
              "      <td>aneurysms</td>\n",
              "    </tr>\n",
              "    <tr>\n",
              "      <th>1</th>\n",
              "      <td>Kawasaki Disease</td>\n",
              "      <td>aneurysm</td>\n",
              "    </tr>\n",
              "    <tr>\n",
              "      <th>2</th>\n",
              "      <td>Kawasaki Disease</td>\n",
              "      <td>coronary artery aneurysm</td>\n",
              "    </tr>\n",
              "    <tr>\n",
              "      <th>3</th>\n",
              "      <td>Kawasaki Disease</td>\n",
              "      <td>coronary aneurysm</td>\n",
              "    </tr>\n",
              "    <tr>\n",
              "      <th>4</th>\n",
              "      <td>Kawasaki Disease</td>\n",
              "      <td>coronary artery aneurysms</td>\n",
              "    </tr>\n",
              "    <tr>\n",
              "      <th>...</th>\n",
              "      <td>...</td>\n",
              "      <td>...</td>\n",
              "    </tr>\n",
              "    <tr>\n",
              "      <th>135</th>\n",
              "      <td>Pharyngotonsillitis</td>\n",
              "      <td>cough</td>\n",
              "    </tr>\n",
              "    <tr>\n",
              "      <th>136</th>\n",
              "      <td>Pharyngotonsillitis</td>\n",
              "      <td>fever</td>\n",
              "    </tr>\n",
              "    <tr>\n",
              "      <th>137</th>\n",
              "      <td>Pharyngotonsillitis</td>\n",
              "      <td>general discomfort</td>\n",
              "    </tr>\n",
              "    <tr>\n",
              "      <th>138</th>\n",
              "      <td>Pharyngotonsillitis</td>\n",
              "      <td>swollen tonsils</td>\n",
              "    </tr>\n",
              "    <tr>\n",
              "      <th>139</th>\n",
              "      <td>Pharyngotonsillitis</td>\n",
              "      <td>red tonsils</td>\n",
              "    </tr>\n",
              "  </tbody>\n",
              "</table>\n",
              "<p>140 rows × 2 columns</p>\n",
              "</div>"
            ],
            "text/plain": [
              "                 Disease                    Symptom\n",
              "0       Kawasaki Disease                  aneurysms\n",
              "1       Kawasaki Disease                   aneurysm\n",
              "2       Kawasaki Disease   coronary artery aneurysm\n",
              "3       Kawasaki Disease          coronary aneurysm\n",
              "4       Kawasaki Disease  coronary artery aneurysms\n",
              "..                   ...                        ...\n",
              "135  Pharyngotonsillitis                      cough\n",
              "136  Pharyngotonsillitis                      fever\n",
              "137  Pharyngotonsillitis         general discomfort\n",
              "138  Pharyngotonsillitis            swollen tonsils\n",
              "139  Pharyngotonsillitis                red tonsils\n",
              "\n",
              "[140 rows x 2 columns]"
            ]
          },
          "metadata": {
            "tags": []
          },
          "execution_count": 7
        }
      ]
    },
    {
      "cell_type": "code",
      "metadata": {
        "colab": {
          "base_uri": "https://localhost:8080/"
        },
        "id": "4i6ljGJK6VZz",
        "outputId": "744df09c-74e0-4e30-8e56-a9b11468339a"
      },
      "source": [
        "sintomas_ws['Disease'].unique()"
      ],
      "execution_count": null,
      "outputs": [
        {
          "output_type": "execute_result",
          "data": {
            "text/plain": [
              "array(['Kawasaki Disease', 'Bronchiolitis', 'Scarlet Fever', 'Influeza',\n",
              "       'Measles', 'Pertussis', 'Enterobiasis', 'Mononucleosis',\n",
              "       'Pharyngotonsillitis'], dtype=object)"
            ]
          },
          "metadata": {
            "tags": []
          },
          "execution_count": 8
        }
      ]
    },
    {
      "cell_type": "markdown",
      "metadata": {
        "id": "QLnyeYE8cCOi"
      },
      "source": [
        "Analicemos a continuación los síntomas de cada enfermedad, y con que sintomas los podemos relacionar del dataset de casos clínicos. Además, tendremos en cuenta los síntomas más importantes, para generar casos clínicos equilibrados y reales, para añadirlos al dataset clínico."
      ]
    },
    {
      "cell_type": "markdown",
      "metadata": {
        "id": "zgkcumqAc6HR"
      },
      "source": [
        "## Enfermedad de Kawasaki"
      ]
    },
    {
      "cell_type": "code",
      "metadata": {
        "colab": {
          "base_uri": "https://localhost:8080/",
          "height": 1000
        },
        "id": "D5vIFeZ3LySN",
        "outputId": "6716289c-08a4-439a-ac18-ac98ae3a578d"
      },
      "source": [
        "sintomas_ws[sintomas_ws.Disease == 'Kawasaki Disease']"
      ],
      "execution_count": null,
      "outputs": [
        {
          "output_type": "execute_result",
          "data": {
            "text/html": [
              "<div>\n",
              "<style scoped>\n",
              "    .dataframe tbody tr th:only-of-type {\n",
              "        vertical-align: middle;\n",
              "    }\n",
              "\n",
              "    .dataframe tbody tr th {\n",
              "        vertical-align: top;\n",
              "    }\n",
              "\n",
              "    .dataframe thead th {\n",
              "        text-align: right;\n",
              "    }\n",
              "</style>\n",
              "<table border=\"1\" class=\"dataframe\">\n",
              "  <thead>\n",
              "    <tr style=\"text-align: right;\">\n",
              "      <th></th>\n",
              "      <th>Disease</th>\n",
              "      <th>Symptom</th>\n",
              "    </tr>\n",
              "  </thead>\n",
              "  <tbody>\n",
              "    <tr>\n",
              "      <th>0</th>\n",
              "      <td>Kawasaki Disease</td>\n",
              "      <td>aneurysms</td>\n",
              "    </tr>\n",
              "    <tr>\n",
              "      <th>1</th>\n",
              "      <td>Kawasaki Disease</td>\n",
              "      <td>aneurysm</td>\n",
              "    </tr>\n",
              "    <tr>\n",
              "      <th>2</th>\n",
              "      <td>Kawasaki Disease</td>\n",
              "      <td>coronary artery aneurysm</td>\n",
              "    </tr>\n",
              "    <tr>\n",
              "      <th>3</th>\n",
              "      <td>Kawasaki Disease</td>\n",
              "      <td>coronary aneurysm</td>\n",
              "    </tr>\n",
              "    <tr>\n",
              "      <th>4</th>\n",
              "      <td>Kawasaki Disease</td>\n",
              "      <td>coronary artery aneurysms</td>\n",
              "    </tr>\n",
              "    <tr>\n",
              "      <th>5</th>\n",
              "      <td>Kawasaki Disease</td>\n",
              "      <td>coronary aneurysms</td>\n",
              "    </tr>\n",
              "    <tr>\n",
              "      <th>6</th>\n",
              "      <td>Kawasaki Disease</td>\n",
              "      <td>myocarditis</td>\n",
              "    </tr>\n",
              "    <tr>\n",
              "      <th>7</th>\n",
              "      <td>Kawasaki Disease</td>\n",
              "      <td>infarction</td>\n",
              "    </tr>\n",
              "    <tr>\n",
              "      <th>8</th>\n",
              "      <td>Kawasaki Disease</td>\n",
              "      <td>fever</td>\n",
              "    </tr>\n",
              "    <tr>\n",
              "      <th>9</th>\n",
              "      <td>Kawasaki Disease</td>\n",
              "      <td>vasculitis</td>\n",
              "    </tr>\n",
              "    <tr>\n",
              "      <th>10</th>\n",
              "      <td>Kawasaki Disease</td>\n",
              "      <td>myocardial infarction</td>\n",
              "    </tr>\n",
              "    <tr>\n",
              "      <th>11</th>\n",
              "      <td>Kawasaki Disease</td>\n",
              "      <td>stenosis</td>\n",
              "    </tr>\n",
              "    <tr>\n",
              "      <th>12</th>\n",
              "      <td>Kawasaki Disease</td>\n",
              "      <td>acute myocardial infarction</td>\n",
              "    </tr>\n",
              "    <tr>\n",
              "      <th>13</th>\n",
              "      <td>Kawasaki Disease</td>\n",
              "      <td>nephrotic syndrome</td>\n",
              "    </tr>\n",
              "    <tr>\n",
              "      <th>14</th>\n",
              "      <td>Kawasaki Disease</td>\n",
              "      <td>coronary artery Disease</td>\n",
              "    </tr>\n",
              "    <tr>\n",
              "      <th>15</th>\n",
              "      <td>Kawasaki Disease</td>\n",
              "      <td>vascular complications</td>\n",
              "    </tr>\n",
              "    <tr>\n",
              "      <th>16</th>\n",
              "      <td>Kawasaki Disease</td>\n",
              "      <td>pyuria</td>\n",
              "    </tr>\n",
              "    <tr>\n",
              "      <th>17</th>\n",
              "      <td>Kawasaki Disease</td>\n",
              "      <td>endothelial dysfunction</td>\n",
              "    </tr>\n",
              "    <tr>\n",
              "      <th>18</th>\n",
              "      <td>Kawasaki Disease</td>\n",
              "      <td>coronary artery thrombosis</td>\n",
              "    </tr>\n",
              "    <tr>\n",
              "      <th>19</th>\n",
              "      <td>Kawasaki Disease</td>\n",
              "      <td>coronary arteritis</td>\n",
              "    </tr>\n",
              "    <tr>\n",
              "      <th>20</th>\n",
              "      <td>Kawasaki Disease</td>\n",
              "      <td>pancreatitis</td>\n",
              "    </tr>\n",
              "    <tr>\n",
              "      <th>21</th>\n",
              "      <td>Kawasaki Disease</td>\n",
              "      <td>myocardial infarction (mi)</td>\n",
              "    </tr>\n",
              "    <tr>\n",
              "      <th>22</th>\n",
              "      <td>Kawasaki Disease</td>\n",
              "      <td>autoimmune hemolytic anemia</td>\n",
              "    </tr>\n",
              "    <tr>\n",
              "      <th>23</th>\n",
              "      <td>Kawasaki Disease</td>\n",
              "      <td>skin lesion</td>\n",
              "    </tr>\n",
              "    <tr>\n",
              "      <th>24</th>\n",
              "      <td>Kawasaki Disease</td>\n",
              "      <td>acrodermatitis</td>\n",
              "    </tr>\n",
              "    <tr>\n",
              "      <th>25</th>\n",
              "      <td>Kawasaki Disease</td>\n",
              "      <td>ischemic heart Disease</td>\n",
              "    </tr>\n",
              "    <tr>\n",
              "      <th>26</th>\n",
              "      <td>Kawasaki Disease</td>\n",
              "      <td>arthritis</td>\n",
              "    </tr>\n",
              "    <tr>\n",
              "      <th>27</th>\n",
              "      <td>Kawasaki Disease</td>\n",
              "      <td>facial palsy</td>\n",
              "    </tr>\n",
              "    <tr>\n",
              "      <th>28</th>\n",
              "      <td>Kawasaki Disease</td>\n",
              "      <td>coronary Disease</td>\n",
              "    </tr>\n",
              "    <tr>\n",
              "      <th>29</th>\n",
              "      <td>Kawasaki Disease</td>\n",
              "      <td>sensorineural hearing loss</td>\n",
              "    </tr>\n",
              "    <tr>\n",
              "      <th>30</th>\n",
              "      <td>Kawasaki Disease</td>\n",
              "      <td>ruptured cerebral aneurysm</td>\n",
              "    </tr>\n",
              "    <tr>\n",
              "      <th>31</th>\n",
              "      <td>Kawasaki Disease</td>\n",
              "      <td>sudden infant death</td>\n",
              "    </tr>\n",
              "  </tbody>\n",
              "</table>\n",
              "</div>"
            ],
            "text/plain": [
              "             Disease                      Symptom\n",
              "0   Kawasaki Disease                    aneurysms\n",
              "1   Kawasaki Disease                     aneurysm\n",
              "2   Kawasaki Disease     coronary artery aneurysm\n",
              "3   Kawasaki Disease            coronary aneurysm\n",
              "4   Kawasaki Disease    coronary artery aneurysms\n",
              "5   Kawasaki Disease           coronary aneurysms\n",
              "6   Kawasaki Disease                  myocarditis\n",
              "7   Kawasaki Disease                   infarction\n",
              "8   Kawasaki Disease                        fever\n",
              "9   Kawasaki Disease                   vasculitis\n",
              "10  Kawasaki Disease        myocardial infarction\n",
              "11  Kawasaki Disease                     stenosis\n",
              "12  Kawasaki Disease  acute myocardial infarction\n",
              "13  Kawasaki Disease           nephrotic syndrome\n",
              "14  Kawasaki Disease      coronary artery Disease\n",
              "15  Kawasaki Disease       vascular complications\n",
              "16  Kawasaki Disease                       pyuria\n",
              "17  Kawasaki Disease      endothelial dysfunction\n",
              "18  Kawasaki Disease   coronary artery thrombosis\n",
              "19  Kawasaki Disease           coronary arteritis\n",
              "20  Kawasaki Disease                 pancreatitis\n",
              "21  Kawasaki Disease   myocardial infarction (mi)\n",
              "22  Kawasaki Disease  autoimmune hemolytic anemia\n",
              "23  Kawasaki Disease                  skin lesion\n",
              "24  Kawasaki Disease               acrodermatitis\n",
              "25  Kawasaki Disease       ischemic heart Disease\n",
              "26  Kawasaki Disease                    arthritis\n",
              "27  Kawasaki Disease                 facial palsy\n",
              "28  Kawasaki Disease             coronary Disease\n",
              "29  Kawasaki Disease   sensorineural hearing loss\n",
              "30  Kawasaki Disease   ruptured cerebral aneurysm\n",
              "31  Kawasaki Disease          sudden infant death"
            ]
          },
          "metadata": {
            "tags": []
          },
          "execution_count": 9
        }
      ]
    },
    {
      "cell_type": "markdown",
      "metadata": {
        "id": "mDjWxca5qGXh"
      },
      "source": [
        "En este caso podemos ver como existen síntomas no comunes y que por tanto un paciente no podrá expresar como síntoma a su médico. Por tanto, seleccionamos los siguientes: fiebre, lesiones de piel, labios rojos y secos y problemas cardíacos. De ellos, los siguientes existen en la base de datos clínica:\n",
        "\n",
        "* fever --> high_fever / mild_fever\n",
        "* skin lession --> skin_rash \n",
        "* problemas cardíacos --> fast_heart_rate\n",
        "\n",
        "Además, para los problemas cardiacos se creara un síntoma adicional denominado vascular_complications. Para las lesiones de piel se añadirá un síntoma denominado red_skin (será necesario para otra enfermedad también) y se añade también el síntoma red_and_dry_tonge, haciendo referencia a los labios rojos y secos.\n",
        "\n",
        "Procedemos por tanto a generar y añadir los casos clínicos de esta enfermedad a la base de datos clínica. Por cada enfermedad se añadirán 120 casos clínicos, para que coincida con el número de casos de las enfermedades propias de dicho dataset. Para ello, generamos un número menor de casos clínicos, y serán insertados tantas veces sean necesarias para sumar 120."
      ]
    },
    {
      "cell_type": "code",
      "metadata": {
        "id": "rqQvef2lXBmu"
      },
      "source": [
        "i = 0;\n",
        "\n",
        "while i < 20:\n",
        "  casos_infecciosas = casos_infecciosas.append({'Disease' : 'KawasakiDisease' , 'Symptom_1' : 'vascular_complications' , 'Symptom_2' : 'red_and_dry_tongue', 'Symptom_3' : 'red_skin', 'Symptom_4' : 'high_fever'}, ignore_index=True)\n",
        "  casos_infecciosas = casos_infecciosas.append({'Disease' : 'KawasakiDisease' , 'Symptom_1' : 'vascular_complications' , 'Symptom_2' : 'red_and_dry_tongue', 'Symptom_3' : 'red_skin', 'Symptom_4' : 'mild_fever'}, ignore_index=True)\n",
        "  casos_infecciosas = casos_infecciosas.append({'Disease' : 'KawasakiDisease' , 'Symptom_1' : 'red_and_dry_tongue' , 'Symptom_2' : 'vascular_complications', 'Symptom_3' : 'red_skin'}, ignore_index=True)\n",
        "  casos_infecciosas = casos_infecciosas.append({'Disease' : 'KawasakiDisease' , 'Symptom_1' : 'red_and_dry_tongue' , 'Symptom_2' : 'vascular_complications', 'Symptom_3' : 'mild_fever'}, ignore_index=True)\n",
        "  casos_infecciosas = casos_infecciosas.append({'Disease' : 'KawasakiDisease' , 'Symptom_1' : 'red_and_dry_tongue' , 'Symptom_2' : 'vascular_complications', 'Symptom_3' : 'high_fever'}, ignore_index=True)\n",
        "  casos_infecciosas = casos_infecciosas.append({'Disease' : 'KawasakiDisease' , 'Symptom_1' : 'vascular_complications' , 'Symptom_2' : 'red_and_dry_tongue'}, ignore_index=True)\n",
        "  i = i + 1\n"
      ],
      "execution_count": null,
      "outputs": []
    },
    {
      "cell_type": "markdown",
      "metadata": {
        "id": "V9xNtXKhc-PL"
      },
      "source": [
        "## Bronquiolitis"
      ]
    },
    {
      "cell_type": "code",
      "metadata": {
        "colab": {
          "base_uri": "https://localhost:8080/",
          "height": 300
        },
        "id": "Wif6lS-xIUov",
        "outputId": "c72dce1c-df7a-4e5f-e1c2-aed5c0da872b"
      },
      "source": [
        "sintomas_ws[sintomas_ws.Disease == 'Bronchiolitis']"
      ],
      "execution_count": null,
      "outputs": [
        {
          "output_type": "execute_result",
          "data": {
            "text/html": [
              "<div>\n",
              "<style scoped>\n",
              "    .dataframe tbody tr th:only-of-type {\n",
              "        vertical-align: middle;\n",
              "    }\n",
              "\n",
              "    .dataframe tbody tr th {\n",
              "        vertical-align: top;\n",
              "    }\n",
              "\n",
              "    .dataframe thead th {\n",
              "        text-align: right;\n",
              "    }\n",
              "</style>\n",
              "<table border=\"1\" class=\"dataframe\">\n",
              "  <thead>\n",
              "    <tr style=\"text-align: right;\">\n",
              "      <th></th>\n",
              "      <th>Disease</th>\n",
              "      <th>Symptom</th>\n",
              "    </tr>\n",
              "  </thead>\n",
              "  <tbody>\n",
              "    <tr>\n",
              "      <th>32</th>\n",
              "      <td>Bronchiolitis</td>\n",
              "      <td>wheezing</td>\n",
              "    </tr>\n",
              "    <tr>\n",
              "      <th>33</th>\n",
              "      <td>Bronchiolitis</td>\n",
              "      <td>respiratory failure</td>\n",
              "    </tr>\n",
              "    <tr>\n",
              "      <th>34</th>\n",
              "      <td>Bronchiolitis</td>\n",
              "      <td>respiratory distress</td>\n",
              "    </tr>\n",
              "    <tr>\n",
              "      <th>35</th>\n",
              "      <td>Bronchiolitis</td>\n",
              "      <td>acute respiratory failure</td>\n",
              "    </tr>\n",
              "    <tr>\n",
              "      <th>36</th>\n",
              "      <td>Bronchiolitis</td>\n",
              "      <td>airway obstruction</td>\n",
              "    </tr>\n",
              "    <tr>\n",
              "      <th>37</th>\n",
              "      <td>Bronchiolitis</td>\n",
              "      <td>respiratory insufficiency</td>\n",
              "    </tr>\n",
              "    <tr>\n",
              "      <th>38</th>\n",
              "      <td>Bronchiolitis</td>\n",
              "      <td>wheeze</td>\n",
              "    </tr>\n",
              "    <tr>\n",
              "      <th>39</th>\n",
              "      <td>Bronchiolitis</td>\n",
              "      <td>respiratory symptoms</td>\n",
              "    </tr>\n",
              "  </tbody>\n",
              "</table>\n",
              "</div>"
            ],
            "text/plain": [
              "          Disease                    Symptom\n",
              "32  Bronchiolitis                   wheezing\n",
              "33  Bronchiolitis        respiratory failure\n",
              "34  Bronchiolitis       respiratory distress\n",
              "35  Bronchiolitis  acute respiratory failure\n",
              "36  Bronchiolitis         airway obstruction\n",
              "37  Bronchiolitis  respiratory insufficiency\n",
              "38  Bronchiolitis                     wheeze\n",
              "39  Bronchiolitis       respiratory symptoms"
            ]
          },
          "metadata": {
            "tags": []
          },
          "execution_count": 11
        }
      ]
    },
    {
      "cell_type": "markdown",
      "metadata": {
        "id": "_X6uH3_moiG7"
      },
      "source": [
        "Se seleccionan 4 síntomas que representan a la enfermedad en su totalidad: fiebre, jadeos, insuficiencia respiratoria y dificultad para respirar. De estos 4, en la BBDD nos encontramos con dos de ellos:\n",
        "\n",
        "* fever --> high_fever, mild_fever\n",
        "* respiratory distress --> breathlessness\n",
        "\n",
        "Añadimos por tanto como nuevos síntomas los dos restantes. Procedemos ahora a generar y añadir los casos clínicos"
      ]
    },
    {
      "cell_type": "code",
      "metadata": {
        "id": "cSTAnzyaZLxX"
      },
      "source": [
        "i = 0;\n",
        "\n",
        "while i < 30:\n",
        "  casos_infecciosas = casos_infecciosas.append({'Disease' : 'Bronchiolitis' , 'Symptom_1' : 'breathlessness' , 'Symptom_2' : 'wheeze', 'Symptom_3' : 'high_fever', 'Symptom_4' : 'respiratory_insufficiency'}, ignore_index=True)\n",
        "  casos_infecciosas = casos_infecciosas.append({'Disease' : 'Bronchiolitis' , 'Symptom_1' : 'wheeze' , 'Symptom_2' : 'breathlessness', 'Symptom_3' : 'respiratory_insufficiency', 'Symptom_4' : 'mild_fever'}, ignore_index=True)\n",
        "  casos_infecciosas = casos_infecciosas.append({'Disease' : 'Bronchiolitis' , 'Symptom_1' : 'wheeze' , 'Symptom_2' : 'high_fever', 'Symptom_3' : 'breathlessness'}, ignore_index=True)\n",
        "  casos_infecciosas = casos_infecciosas.append({'Disease' : 'Bronchiolitis' , 'Symptom_1' : 'mild_fever' , 'Symptom_2' : 'breathlessness', 'Symptom_3' : 'wheeze'}, ignore_index=True)\n",
        "  i = i + 1"
      ],
      "execution_count": null,
      "outputs": []
    },
    {
      "cell_type": "markdown",
      "metadata": {
        "id": "bh3Bp9JadBdK"
      },
      "source": [
        "## Escarlatina"
      ]
    },
    {
      "cell_type": "code",
      "metadata": {
        "id": "fjFYKw29LBxh",
        "colab": {
          "base_uri": "https://localhost:8080/",
          "height": 206
        },
        "outputId": "efc52bbc-65ef-42f0-b52d-a16be74476bb"
      },
      "source": [
        "sintomas_ws[sintomas_ws.Disease == 'Scarlet Fever']"
      ],
      "execution_count": null,
      "outputs": [
        {
          "output_type": "execute_result",
          "data": {
            "text/html": [
              "<div>\n",
              "<style scoped>\n",
              "    .dataframe tbody tr th:only-of-type {\n",
              "        vertical-align: middle;\n",
              "    }\n",
              "\n",
              "    .dataframe tbody tr th {\n",
              "        vertical-align: top;\n",
              "    }\n",
              "\n",
              "    .dataframe thead th {\n",
              "        text-align: right;\n",
              "    }\n",
              "</style>\n",
              "<table border=\"1\" class=\"dataframe\">\n",
              "  <thead>\n",
              "    <tr style=\"text-align: right;\">\n",
              "      <th></th>\n",
              "      <th>Disease</th>\n",
              "      <th>Symptom</th>\n",
              "    </tr>\n",
              "  </thead>\n",
              "  <tbody>\n",
              "    <tr>\n",
              "      <th>40</th>\n",
              "      <td>Scarlet Fever</td>\n",
              "      <td>hepatitis</td>\n",
              "    </tr>\n",
              "    <tr>\n",
              "      <th>41</th>\n",
              "      <td>Scarlet Fever</td>\n",
              "      <td>otitis</td>\n",
              "    </tr>\n",
              "    <tr>\n",
              "      <th>42</th>\n",
              "      <td>Scarlet Fever</td>\n",
              "      <td>rash</td>\n",
              "    </tr>\n",
              "    <tr>\n",
              "      <th>43</th>\n",
              "      <td>Scarlet Fever</td>\n",
              "      <td>otitis media</td>\n",
              "    </tr>\n",
              "    <tr>\n",
              "      <th>127</th>\n",
              "      <td>Scarlet Fever</td>\n",
              "      <td>high_fever</td>\n",
              "    </tr>\n",
              "  </tbody>\n",
              "</table>\n",
              "</div>"
            ],
            "text/plain": [
              "           Disease       Symptom\n",
              "40   Scarlet Fever     hepatitis\n",
              "41   Scarlet Fever        otitis\n",
              "42   Scarlet Fever          rash\n",
              "43   Scarlet Fever  otitis media\n",
              "127  Scarlet Fever    high_fever"
            ]
          },
          "metadata": {
            "tags": []
          },
          "execution_count": 13
        }
      ]
    },
    {
      "cell_type": "markdown",
      "metadata": {
        "id": "qh6fM7MInZ6_"
      },
      "source": [
        "Nos quedamos con los dos síntomas principales, los cuales también aparecen en la base de datos clínica:\n",
        "\n",
        "* high_fever --> high_fever\n",
        "* rash --> skin_rash\n",
        "\n",
        "Se creará un nuevo síntoma red_skin que represente el enrojecimiento de la piel, ya que además de generar erupciones en ella, esta enfermedad también enrojece la piel. Procedemos a generar y añadir los casos clínicos nuevos."
      ]
    },
    {
      "cell_type": "code",
      "metadata": {
        "id": "3nU0g7tUb6F5"
      },
      "source": [
        "i = 0;\n",
        "\n",
        "while i < 20:\n",
        "  casos_infecciosas = casos_infecciosas.append({'Disease' : 'ScarletFever' , 'Symptom_1' : 'high_fever' , 'Symptom_2' : 'skin_rash', 'Symptom_3' : 'red_skin'}, ignore_index=True)\n",
        "  casos_infecciosas = casos_infecciosas.append({'Disease' : 'ScarletFever' , 'Symptom_1' : 'skin_rash' , 'Symptom_2' : 'red_skin', 'Symptom_3' : 'high_fever'}, ignore_index=True)\n",
        "  casos_infecciosas = casos_infecciosas.append({'Disease' : 'ScarletFever' , 'Symptom_1' : 'red_skin' , 'Symptom_2' : 'high_fever', 'Symptom_3' : 'skin_rash'}, ignore_index=True)\n",
        "  casos_infecciosas = casos_infecciosas.append({'Disease' : 'ScarletFever' , 'Symptom_1' : 'high_fever' , 'Symptom_2' : 'red_skin'}, ignore_index=True)\n",
        "  casos_infecciosas = casos_infecciosas.append({'Disease' : 'ScarletFever' , 'Symptom_1' : 'skin_rash' , 'Symptom_2' : 'high_fever'}, ignore_index=True)\n",
        "  casos_infecciosas = casos_infecciosas.append({'Disease' : 'ScarletFever' , 'Symptom_1' : 'skin_rash' , 'Symptom_2' : 'red_skin'}, ignore_index=True)    \n",
        "  i = i + 1"
      ],
      "execution_count": null,
      "outputs": []
    },
    {
      "cell_type": "markdown",
      "metadata": {
        "id": "BBWxirTBdF5O"
      },
      "source": [
        "## Gripe"
      ]
    },
    {
      "cell_type": "code",
      "metadata": {
        "colab": {
          "base_uri": "https://localhost:8080/",
          "height": 424
        },
        "id": "NCD92Ry0K8ox",
        "outputId": "1f2f58bb-72c6-4017-f179-2ee3862ce2e1"
      },
      "source": [
        "sintomas_ws[sintomas_ws.Disease == 'Influeza']"
      ],
      "execution_count": null,
      "outputs": [
        {
          "output_type": "execute_result",
          "data": {
            "text/html": [
              "<div>\n",
              "<style scoped>\n",
              "    .dataframe tbody tr th:only-of-type {\n",
              "        vertical-align: middle;\n",
              "    }\n",
              "\n",
              "    .dataframe tbody tr th {\n",
              "        vertical-align: top;\n",
              "    }\n",
              "\n",
              "    .dataframe thead th {\n",
              "        text-align: right;\n",
              "    }\n",
              "</style>\n",
              "<table border=\"1\" class=\"dataframe\">\n",
              "  <thead>\n",
              "    <tr style=\"text-align: right;\">\n",
              "      <th></th>\n",
              "      <th>Disease</th>\n",
              "      <th>Symptom</th>\n",
              "    </tr>\n",
              "  </thead>\n",
              "  <tbody>\n",
              "    <tr>\n",
              "      <th>44</th>\n",
              "      <td>Influeza</td>\n",
              "      <td>pneumonia</td>\n",
              "    </tr>\n",
              "    <tr>\n",
              "      <th>45</th>\n",
              "      <td>Influeza</td>\n",
              "      <td>fever</td>\n",
              "    </tr>\n",
              "    <tr>\n",
              "      <th>46</th>\n",
              "      <td>Influeza</td>\n",
              "      <td>respiratory failure</td>\n",
              "    </tr>\n",
              "    <tr>\n",
              "      <th>47</th>\n",
              "      <td>Influeza</td>\n",
              "      <td>myocarditis</td>\n",
              "    </tr>\n",
              "    <tr>\n",
              "      <th>48</th>\n",
              "      <td>Influeza</td>\n",
              "      <td>respiratory Disease</td>\n",
              "    </tr>\n",
              "    <tr>\n",
              "      <th>...</th>\n",
              "      <td>...</td>\n",
              "      <td>...</td>\n",
              "    </tr>\n",
              "    <tr>\n",
              "      <th>102</th>\n",
              "      <td>Influeza</td>\n",
              "      <td>ventricular fibrillation</td>\n",
              "    </tr>\n",
              "    <tr>\n",
              "      <th>103</th>\n",
              "      <td>Influeza</td>\n",
              "      <td>acute myopathy</td>\n",
              "    </tr>\n",
              "    <tr>\n",
              "      <th>104</th>\n",
              "      <td>Influeza</td>\n",
              "      <td>clonal evolution</td>\n",
              "    </tr>\n",
              "    <tr>\n",
              "      <th>105</th>\n",
              "      <td>Influeza</td>\n",
              "      <td>status asthmaticus</td>\n",
              "    </tr>\n",
              "    <tr>\n",
              "      <th>106</th>\n",
              "      <td>Influeza</td>\n",
              "      <td>upper respiratory tract infections</td>\n",
              "    </tr>\n",
              "  </tbody>\n",
              "</table>\n",
              "<p>63 rows × 2 columns</p>\n",
              "</div>"
            ],
            "text/plain": [
              "      Disease                             Symptom\n",
              "44   Influeza                           pneumonia\n",
              "45   Influeza                               fever\n",
              "46   Influeza                 respiratory failure\n",
              "47   Influeza                         myocarditis\n",
              "48   Influeza                 respiratory Disease\n",
              "..        ...                                 ...\n",
              "102  Influeza            ventricular fibrillation\n",
              "103  Influeza                      acute myopathy\n",
              "104  Influeza                    clonal evolution\n",
              "105  Influeza                  status asthmaticus\n",
              "106  Influeza  upper respiratory tract infections\n",
              "\n",
              "[63 rows x 2 columns]"
            ]
          },
          "metadata": {
            "tags": []
          },
          "execution_count": 15
        }
      ]
    },
    {
      "cell_type": "markdown",
      "metadata": {
        "id": "k4_yzuZkq_e4"
      },
      "source": [
        "Seleccionamos los siguientes síntomas: fiebre, dolor de cabeza, inmunodepresión, debilidad muscular y mareos. De estos, el único no representado en la base de datos, es la inmunodepresión, que será añadido como nuevo síntoma. Además, también sera necesario para otra enfermedad. Se procede a generar y añadir estos casos clínicos."
      ]
    },
    {
      "cell_type": "code",
      "metadata": {
        "id": "bftIZnYsdS56"
      },
      "source": [
        "i = 0;\n",
        "\n",
        "while i < 20:\n",
        "  casos_infecciosas = casos_infecciosas.append({'Disease' : 'Influenza' , 'Symptom_1' : 'high_fever' , 'Symptom_2' : 'immunosuppression', 'Symptom_3' : 'headache', 'Symptom_4' : 'dizziness', 'Symptom_5' : 'muscle_weakness'}, ignore_index=True)\n",
        "  casos_infecciosas = casos_infecciosas.append({'Disease' : 'Influenza' , 'Symptom_1' : 'headache' , 'Symptom_2' : 'mild_fever', 'Symptom_3' : 'immunosuppression', 'Symptom_4' : 'muscle_weakness', 'Symptom_5' : 'dizziness'}, ignore_index=True)\n",
        "  casos_infecciosas = casos_infecciosas.append({'Disease' : 'Influenza' , 'Symptom_1' : 'mild_fever' , 'Symptom_2' : 'headache', 'Symptom_3' : 'dizziness', 'Symptom_4' : 'immunosuppression'}, ignore_index=True)\n",
        "  casos_infecciosas = casos_infecciosas.append({'Disease' : 'Influenza' , 'Symptom_1' : 'headache' , 'Symptom_2' : 'high_fever', 'Symptom_3' : 'immunosuppression', 'Symptom_4' : 'muscle_weakness'}, ignore_index=True)\n",
        "  casos_infecciosas = casos_infecciosas.append({'Disease' : 'Influenza' , 'Symptom_1' : 'headache' , 'Symptom_2' : 'mild_fever', 'Symptom_3' : 'muscle_weakness'}, ignore_index=True)\n",
        "  casos_infecciosas = casos_infecciosas.append({'Disease' : 'Influenza' , 'Symptom_1' : 'high_fever' , 'Symptom_2' : 'headache', 'Symptom_3' : 'dizziness'}, ignore_index=True)  \n",
        "  i = i + 1"
      ],
      "execution_count": null,
      "outputs": []
    },
    {
      "cell_type": "markdown",
      "metadata": {
        "id": "-RLF5FKddI4e"
      },
      "source": [
        "## Sarampión"
      ]
    },
    {
      "cell_type": "code",
      "metadata": {
        "colab": {
          "base_uri": "https://localhost:8080/",
          "height": 488
        },
        "id": "VqtQNr4KHxE8",
        "outputId": "2a3ab7d1-0719-42da-d38f-3c17dd8c7f83"
      },
      "source": [
        "sintomas_ws[sintomas_ws.Disease == 'Measles']"
      ],
      "execution_count": null,
      "outputs": [
        {
          "output_type": "execute_result",
          "data": {
            "text/html": [
              "<div>\n",
              "<style scoped>\n",
              "    .dataframe tbody tr th:only-of-type {\n",
              "        vertical-align: middle;\n",
              "    }\n",
              "\n",
              "    .dataframe tbody tr th {\n",
              "        vertical-align: top;\n",
              "    }\n",
              "\n",
              "    .dataframe thead th {\n",
              "        text-align: right;\n",
              "    }\n",
              "</style>\n",
              "<table border=\"1\" class=\"dataframe\">\n",
              "  <thead>\n",
              "    <tr style=\"text-align: right;\">\n",
              "      <th></th>\n",
              "      <th>Disease</th>\n",
              "      <th>Symptom</th>\n",
              "    </tr>\n",
              "  </thead>\n",
              "  <tbody>\n",
              "    <tr>\n",
              "      <th>107</th>\n",
              "      <td>Measles</td>\n",
              "      <td>fever</td>\n",
              "    </tr>\n",
              "    <tr>\n",
              "      <th>108</th>\n",
              "      <td>Measles</td>\n",
              "      <td>rash</td>\n",
              "    </tr>\n",
              "    <tr>\n",
              "      <th>109</th>\n",
              "      <td>Measles</td>\n",
              "      <td>pneumonia</td>\n",
              "    </tr>\n",
              "    <tr>\n",
              "      <th>110</th>\n",
              "      <td>Measles</td>\n",
              "      <td>encephalitis</td>\n",
              "    </tr>\n",
              "    <tr>\n",
              "      <th>111</th>\n",
              "      <td>Measles</td>\n",
              "      <td>immunosuppression</td>\n",
              "    </tr>\n",
              "    <tr>\n",
              "      <th>112</th>\n",
              "      <td>Measles</td>\n",
              "      <td>blindness</td>\n",
              "    </tr>\n",
              "    <tr>\n",
              "      <th>113</th>\n",
              "      <td>Measles</td>\n",
              "      <td>koplik's spots</td>\n",
              "    </tr>\n",
              "    <tr>\n",
              "      <th>114</th>\n",
              "      <td>Measles</td>\n",
              "      <td>lymphopenia</td>\n",
              "    </tr>\n",
              "    <tr>\n",
              "      <th>115</th>\n",
              "      <td>Measles</td>\n",
              "      <td>acute respiratory failure</td>\n",
              "    </tr>\n",
              "    <tr>\n",
              "      <th>116</th>\n",
              "      <td>Measles</td>\n",
              "      <td>bacterial pneumonia</td>\n",
              "    </tr>\n",
              "    <tr>\n",
              "      <th>117</th>\n",
              "      <td>Measles</td>\n",
              "      <td>otitis media</td>\n",
              "    </tr>\n",
              "    <tr>\n",
              "      <th>118</th>\n",
              "      <td>Measles</td>\n",
              "      <td>immune suppression</td>\n",
              "    </tr>\n",
              "    <tr>\n",
              "      <th>119</th>\n",
              "      <td>Measles</td>\n",
              "      <td>optic neuritis</td>\n",
              "    </tr>\n",
              "    <tr>\n",
              "      <th>120</th>\n",
              "      <td>Measles</td>\n",
              "      <td>diarrhea</td>\n",
              "    </tr>\n",
              "  </tbody>\n",
              "</table>\n",
              "</div>"
            ],
            "text/plain": [
              "     Disease                    Symptom\n",
              "107  Measles                      fever\n",
              "108  Measles                       rash\n",
              "109  Measles                  pneumonia\n",
              "110  Measles               encephalitis\n",
              "111  Measles          immunosuppression\n",
              "112  Measles                  blindness\n",
              "113  Measles             koplik's spots\n",
              "114  Measles                lymphopenia\n",
              "115  Measles  acute respiratory failure\n",
              "116  Measles        bacterial pneumonia\n",
              "117  Measles               otitis media\n",
              "118  Measles         immune suppression\n",
              "119  Measles             optic neuritis\n",
              "120  Measles                   diarrhea"
            ]
          },
          "metadata": {
            "tags": []
          },
          "execution_count": 17
        }
      ]
    },
    {
      "cell_type": "markdown",
      "metadata": {
        "id": "wbFSbXsOmdkA"
      },
      "source": [
        "En el caso del sarampión, seleccionamos los síntomas más conocidos por un paciente que pueda acudir a una consulta. Fiebre, erupciones en la piel, inmunosupresión, tos y diarrea. De estos, los siguientes se pueden asociar a síntomas de la base de datos clínica:\n",
        "\n",
        "* cough --> cough\n",
        "* fever --> high_fever / mild_fever\n",
        "* rash --> skin_rash\n",
        "* diarrhea --> diarrhoea\n",
        "\n",
        "Se añadirá la inmunosupresión como síntoma nuevo. Se procede a generar y añadir dichos casos clínicos."
      ]
    },
    {
      "cell_type": "code",
      "metadata": {
        "id": "hLMCZCTBgPGe"
      },
      "source": [
        "i = 0;\n",
        "\n",
        "while i < 20:\n",
        "  casos_infecciosas = casos_infecciosas.append({'Disease' : 'Measles' , 'Symptom_1' : 'high_fever' , 'Symptom_2' : 'immunosuppression', 'Symptom_3' : 'skin_rash', 'Symptom_4' : 'cough', 'Symptom_5' : 'diarrhoea'}, ignore_index=True)\n",
        "  casos_infecciosas = casos_infecciosas.append({'Disease' : 'Measles' , 'Symptom_1' : 'skin_rash' , 'Symptom_2' : 'mild_fever', 'Symptom_3' : 'immunosuppression', 'Symptom_4' : 'diarrhoea', 'Symptom_5' : 'cough'}, ignore_index=True)\n",
        "  casos_infecciosas = casos_infecciosas.append({'Disease' : 'Measles' , 'Symptom_1' : 'mild_fever' , 'Symptom_2' : 'skin_rash', 'Symptom_3' : 'cough', 'Symptom_4' : 'immunosuppression'}, ignore_index=True)\n",
        "  casos_infecciosas = casos_infecciosas.append({'Disease' : 'Measles' , 'Symptom_1' : 'skin_rash' , 'Symptom_2' : 'high_fever', 'Symptom_3' : 'immunosuppression', 'Symptom_4' : 'diarrhoea'}, ignore_index=True)\n",
        "  casos_infecciosas = casos_infecciosas.append({'Disease' : 'Measles' , 'Symptom_1' : 'skin_rash' , 'Symptom_2' : 'mild_fever', 'Symptom_3' : 'diarrhoea'}, ignore_index=True)\n",
        "  casos_infecciosas = casos_infecciosas.append({'Disease' : 'Measles' , 'Symptom_1' : 'high_fever' , 'Symptom_2' : 'skin_rash', 'Symptom_3' : 'cough'}, ignore_index=True)  \n",
        "  i = i + 1"
      ],
      "execution_count": null,
      "outputs": []
    },
    {
      "cell_type": "markdown",
      "metadata": {
        "id": "vfA0YhsNdOQk"
      },
      "source": [
        "## Tos ferina"
      ]
    },
    {
      "cell_type": "code",
      "metadata": {
        "colab": {
          "base_uri": "https://localhost:8080/",
          "height": 237
        },
        "id": "hLdnHLBOGvty",
        "outputId": "68bf95a7-24d6-44e6-fe57-aadc91b24be0"
      },
      "source": [
        "sintomas_ws[sintomas_ws.Disease == 'Pertussis']"
      ],
      "execution_count": null,
      "outputs": [
        {
          "output_type": "execute_result",
          "data": {
            "text/html": [
              "<div>\n",
              "<style scoped>\n",
              "    .dataframe tbody tr th:only-of-type {\n",
              "        vertical-align: middle;\n",
              "    }\n",
              "\n",
              "    .dataframe tbody tr th {\n",
              "        vertical-align: top;\n",
              "    }\n",
              "\n",
              "    .dataframe thead th {\n",
              "        text-align: right;\n",
              "    }\n",
              "</style>\n",
              "<table border=\"1\" class=\"dataframe\">\n",
              "  <thead>\n",
              "    <tr style=\"text-align: right;\">\n",
              "      <th></th>\n",
              "      <th>Disease</th>\n",
              "      <th>Symptom</th>\n",
              "    </tr>\n",
              "  </thead>\n",
              "  <tbody>\n",
              "    <tr>\n",
              "      <th>121</th>\n",
              "      <td>Pertussis</td>\n",
              "      <td>cough</td>\n",
              "    </tr>\n",
              "    <tr>\n",
              "      <th>122</th>\n",
              "      <td>Pertussis</td>\n",
              "      <td>c syndrome</td>\n",
              "    </tr>\n",
              "    <tr>\n",
              "      <th>123</th>\n",
              "      <td>Pertussis</td>\n",
              "      <td>seizures</td>\n",
              "    </tr>\n",
              "    <tr>\n",
              "      <th>124</th>\n",
              "      <td>Pertussis</td>\n",
              "      <td>pulmonary hypertension</td>\n",
              "    </tr>\n",
              "    <tr>\n",
              "      <th>125</th>\n",
              "      <td>Pertussis</td>\n",
              "      <td>diarrhea</td>\n",
              "    </tr>\n",
              "    <tr>\n",
              "      <th>126</th>\n",
              "      <td>Pertussis</td>\n",
              "      <td>vomits</td>\n",
              "    </tr>\n",
              "  </tbody>\n",
              "</table>\n",
              "</div>"
            ],
            "text/plain": [
              "       Disease                 Symptom\n",
              "121  Pertussis                   cough\n",
              "122  Pertussis              c syndrome\n",
              "123  Pertussis                seizures\n",
              "124  Pertussis  pulmonary hypertension\n",
              "125  Pertussis                diarrhea\n",
              "126  Pertussis                  vomits"
            ]
          },
          "metadata": {
            "tags": []
          },
          "execution_count": 19
        }
      ]
    },
    {
      "cell_type": "markdown",
      "metadata": {
        "id": "zUSIGSSKsJZC"
      },
      "source": [
        "De los síntomas aquí existentes seleccionamos: tos, hipertensión pulmonar, diarrea y vomitos. De estos tres, solo no existen la hipertensión pulmonar. Por ello, se va a crear un nuevo síntoma que haga referencia a problemas pulmonares."
      ]
    },
    {
      "cell_type": "code",
      "metadata": {
        "id": "36HpOLVxhzVd"
      },
      "source": [
        "i = 0;\n",
        "\n",
        "while i < 30:\n",
        "  casos_infecciosas = casos_infecciosas.append({'Disease' : 'Pertussis' , 'Symptom_1' : 'cough' , 'Symptom_2' : 'vomiting', 'Symptom_3' : 'lung_pain', 'Symptom_4' : 'diarrhoea'}, ignore_index=True)\n",
        "  casos_infecciosas = casos_infecciosas.append({'Disease' : 'Pertussis' , 'Symptom_1' : 'diarrhoea' , 'Symptom_2' : 'lung_pain', 'Symptom_3' : 'cough', 'Symptom_4' : 'vomiting'}, ignore_index=True)\n",
        "  casos_infecciosas = casos_infecciosas.append({'Disease' : 'Pertussis' , 'Symptom_1' : 'vomiting' , 'Symptom_2' : 'lung_pain', 'Symptom_3' : 'cough'}, ignore_index=True)\n",
        "  casos_infecciosas = casos_infecciosas.append({'Disease' : 'Pertussis' , 'Symptom_1' : 'cough' , 'Symptom_2' : 'lung_pain', 'Symptom_3' : 'vomiting'}, ignore_index=True)\n",
        "  i = i + 1"
      ],
      "execution_count": null,
      "outputs": []
    },
    {
      "cell_type": "markdown",
      "metadata": {
        "id": "D3QkoQcwdRGY"
      },
      "source": [
        "## Enterobiasis"
      ]
    },
    {
      "cell_type": "code",
      "metadata": {
        "colab": {
          "base_uri": "https://localhost:8080/",
          "height": 143
        },
        "id": "wHX2JwzgFaka",
        "outputId": "ddcc2e39-41b9-46c8-80d9-6b57a2eb4ca7"
      },
      "source": [
        "sintomas_ws[sintomas_ws.Disease == 'Enterobiasis']"
      ],
      "execution_count": null,
      "outputs": [
        {
          "output_type": "execute_result",
          "data": {
            "text/html": [
              "<div>\n",
              "<style scoped>\n",
              "    .dataframe tbody tr th:only-of-type {\n",
              "        vertical-align: middle;\n",
              "    }\n",
              "\n",
              "    .dataframe tbody tr th {\n",
              "        vertical-align: top;\n",
              "    }\n",
              "\n",
              "    .dataframe thead th {\n",
              "        text-align: right;\n",
              "    }\n",
              "</style>\n",
              "<table border=\"1\" class=\"dataframe\">\n",
              "  <thead>\n",
              "    <tr style=\"text-align: right;\">\n",
              "      <th></th>\n",
              "      <th>Disease</th>\n",
              "      <th>Symptom</th>\n",
              "    </tr>\n",
              "  </thead>\n",
              "  <tbody>\n",
              "    <tr>\n",
              "      <th>128</th>\n",
              "      <td>Enterobiasis</td>\n",
              "      <td>insomnia</td>\n",
              "    </tr>\n",
              "    <tr>\n",
              "      <th>129</th>\n",
              "      <td>Enterobiasis</td>\n",
              "      <td>itchy anus</td>\n",
              "    </tr>\n",
              "    <tr>\n",
              "      <th>130</th>\n",
              "      <td>Enterobiasis</td>\n",
              "      <td>fatigue</td>\n",
              "    </tr>\n",
              "  </tbody>\n",
              "</table>\n",
              "</div>"
            ],
            "text/plain": [
              "          Disease     Symptom\n",
              "128  Enterobiasis    insomnia\n",
              "129  Enterobiasis  itchy anus\n",
              "130  Enterobiasis     fatigue"
            ]
          },
          "metadata": {
            "tags": []
          },
          "execution_count": 21
        }
      ]
    },
    {
      "cell_type": "markdown",
      "metadata": {
        "id": "gW5Zr_kkkcZz"
      },
      "source": [
        "Solo uno de estos tres síntomas se encuentra en la base de datos clínica. La fatiga, que comparte el mismo nombre en las BBDD. Por tanto, se deben de añadir el insomnio y picor de ano como síntomas nuevos."
      ]
    },
    {
      "cell_type": "code",
      "metadata": {
        "id": "S3cl7NrKjH0-"
      },
      "source": [
        "i = 0;\n",
        "\n",
        "while i < 30:\n",
        "  casos_infecciosas = casos_infecciosas.append({'Disease' : 'Enterobiasis' , 'Symptom_1' : 'itchy_anus' , 'Symptom_2' : 'insomia'}, ignore_index=True)\n",
        "  casos_infecciosas = casos_infecciosas.append({'Disease' : 'Enterobiasis' , 'Symptom_1' : 'fatigue' , 'Symptom_2' : 'itchy_anus', 'Symptom_3' : 'insomia'}, ignore_index=True)\n",
        "  casos_infecciosas = casos_infecciosas.append({'Disease' : 'Enterobiasis' , 'Symptom_1' : 'itchy_anus' , 'Symptom_2' : 'fatigue', 'Symptom_3' : 'insomia'}, ignore_index=True)\n",
        "  casos_infecciosas = casos_infecciosas.append({'Disease' : 'Enterobiasis' , 'Symptom_1' : 'insomia' , 'Symptom_2' : 'itchy_anus'}, ignore_index=True)\n",
        "  i = i + 1"
      ],
      "execution_count": null,
      "outputs": []
    },
    {
      "cell_type": "markdown",
      "metadata": {
        "id": "rSms-B1EdU55"
      },
      "source": [
        "## Mononucleosis"
      ]
    },
    {
      "cell_type": "code",
      "metadata": {
        "colab": {
          "base_uri": "https://localhost:8080/",
          "height": 175
        },
        "id": "KtAXV3vX_HMN",
        "outputId": "caceaba1-594d-4138-e3c9-2dd977e0acce"
      },
      "source": [
        "sintomas_ws[sintomas_ws.Disease == 'Mononucleosis']"
      ],
      "execution_count": null,
      "outputs": [
        {
          "output_type": "execute_result",
          "data": {
            "text/html": [
              "<div>\n",
              "<style scoped>\n",
              "    .dataframe tbody tr th:only-of-type {\n",
              "        vertical-align: middle;\n",
              "    }\n",
              "\n",
              "    .dataframe tbody tr th {\n",
              "        vertical-align: top;\n",
              "    }\n",
              "\n",
              "    .dataframe thead th {\n",
              "        text-align: right;\n",
              "    }\n",
              "</style>\n",
              "<table border=\"1\" class=\"dataframe\">\n",
              "  <thead>\n",
              "    <tr style=\"text-align: right;\">\n",
              "      <th></th>\n",
              "      <th>Disease</th>\n",
              "      <th>Symptom</th>\n",
              "    </tr>\n",
              "  </thead>\n",
              "  <tbody>\n",
              "    <tr>\n",
              "      <th>131</th>\n",
              "      <td>Mononucleosis</td>\n",
              "      <td>throat pain</td>\n",
              "    </tr>\n",
              "    <tr>\n",
              "      <th>132</th>\n",
              "      <td>Mononucleosis</td>\n",
              "      <td>fatigue</td>\n",
              "    </tr>\n",
              "    <tr>\n",
              "      <th>133</th>\n",
              "      <td>Mononucleosis</td>\n",
              "      <td>headache</td>\n",
              "    </tr>\n",
              "    <tr>\n",
              "      <th>134</th>\n",
              "      <td>Mononucleosis</td>\n",
              "      <td>lymph nodes</td>\n",
              "    </tr>\n",
              "  </tbody>\n",
              "</table>\n",
              "</div>"
            ],
            "text/plain": [
              "           Disease       Symptom\n",
              "131  Mononucleosis   throat pain\n",
              "132  Mononucleosis       fatigue\n",
              "133  Mononucleosis     headache \n",
              "134  Mononucleosis  lymph nodes "
            ]
          },
          "metadata": {
            "tags": []
          },
          "execution_count": 23
        }
      ]
    },
    {
      "cell_type": "markdown",
      "metadata": {
        "id": "69tdvNH4jeBu"
      },
      "source": [
        "Todos los síntomas de la mononucleosis ya existen en la base de datos clínica:\n",
        "\n",
        "* throat pain --> throat_irritation\n",
        "* fatigue --> fatigue\n",
        "* headache --> headache\n",
        "* lymph nodes --> swelled_lymph_nodes"
      ]
    },
    {
      "cell_type": "code",
      "metadata": {
        "id": "3psB2wecj9Cu"
      },
      "source": [
        "i = 0;\n",
        "\n",
        "while i < 30:\n",
        "  casos_infecciosas = casos_infecciosas.append({'Disease' : 'Mononucleosis' , 'Symptom_1' : 'throat_irritation' , 'Symptom_2' : 'fatigue', 'Symptom_3' : 'headache', 'Symptom_4' : 'swelled_lymph_nodes'}, ignore_index=True)\n",
        "  casos_infecciosas = casos_infecciosas.append({'Disease' : 'Mononucleosis' , 'Symptom_1' : 'fatigue' , 'Symptom_2' : 'swelled_lymph_nodes', 'Symptom_3' : 'throat_irritation', 'Symptom_4' : 'headache'}, ignore_index=True)\n",
        "  casos_infecciosas = casos_infecciosas.append({'Disease' : 'Mononucleosis' , 'Symptom_1' : 'swelled_lymph_nodes' , 'Symptom_2' : 'throat_irritation', 'Symptom_3' : 'fatigue'}, ignore_index=True)\n",
        "  casos_infecciosas = casos_infecciosas.append({'Disease' : 'Mononucleosis' , 'Symptom_1' : 'fatigue' , 'Symptom_2' : 'swelled_lymph_nodes', 'Symptom_3' : 'throat_irritation'}, ignore_index=True)\n",
        "  i = i + 1"
      ],
      "execution_count": null,
      "outputs": []
    },
    {
      "cell_type": "markdown",
      "metadata": {
        "id": "Rg0JjnHIdXU2"
      },
      "source": [
        "## Faringoamigdalitis"
      ]
    },
    {
      "cell_type": "code",
      "metadata": {
        "colab": {
          "base_uri": "https://localhost:8080/",
          "height": 206
        },
        "id": "DrjgKdUG9JwG",
        "outputId": "57fa6339-d119-4bc6-859c-dc30c2f3b2cc"
      },
      "source": [
        "sintomas_ws[sintomas_ws.Disease == 'Pharyngotonsillitis']"
      ],
      "execution_count": null,
      "outputs": [
        {
          "output_type": "execute_result",
          "data": {
            "text/html": [
              "<div>\n",
              "<style scoped>\n",
              "    .dataframe tbody tr th:only-of-type {\n",
              "        vertical-align: middle;\n",
              "    }\n",
              "\n",
              "    .dataframe tbody tr th {\n",
              "        vertical-align: top;\n",
              "    }\n",
              "\n",
              "    .dataframe thead th {\n",
              "        text-align: right;\n",
              "    }\n",
              "</style>\n",
              "<table border=\"1\" class=\"dataframe\">\n",
              "  <thead>\n",
              "    <tr style=\"text-align: right;\">\n",
              "      <th></th>\n",
              "      <th>Disease</th>\n",
              "      <th>Symptom</th>\n",
              "    </tr>\n",
              "  </thead>\n",
              "  <tbody>\n",
              "    <tr>\n",
              "      <th>135</th>\n",
              "      <td>Pharyngotonsillitis</td>\n",
              "      <td>cough</td>\n",
              "    </tr>\n",
              "    <tr>\n",
              "      <th>136</th>\n",
              "      <td>Pharyngotonsillitis</td>\n",
              "      <td>fever</td>\n",
              "    </tr>\n",
              "    <tr>\n",
              "      <th>137</th>\n",
              "      <td>Pharyngotonsillitis</td>\n",
              "      <td>general discomfort</td>\n",
              "    </tr>\n",
              "    <tr>\n",
              "      <th>138</th>\n",
              "      <td>Pharyngotonsillitis</td>\n",
              "      <td>swollen tonsils</td>\n",
              "    </tr>\n",
              "    <tr>\n",
              "      <th>139</th>\n",
              "      <td>Pharyngotonsillitis</td>\n",
              "      <td>red tonsils</td>\n",
              "    </tr>\n",
              "  </tbody>\n",
              "</table>\n",
              "</div>"
            ],
            "text/plain": [
              "                 Disease             Symptom\n",
              "135  Pharyngotonsillitis               cough\n",
              "136  Pharyngotonsillitis               fever\n",
              "137  Pharyngotonsillitis  general discomfort\n",
              "138  Pharyngotonsillitis     swollen tonsils\n",
              "139  Pharyngotonsillitis         red tonsils"
            ]
          },
          "metadata": {
            "tags": []
          },
          "execution_count": 25
        }
      ]
    },
    {
      "cell_type": "markdown",
      "metadata": {
        "id": "TqVycjCQiNEj"
      },
      "source": [
        "Tres de los síntomas de esta enfermedad existen ya en la base de datos clínica:\n",
        "\n",
        "\n",
        "*   cough --> cough\n",
        "*   fever --> high_fever / mild_fever\n",
        "*   general discomfort --> malaise\n",
        "\n",
        "Sin embargo los síntomas swollen tonsils y red tonsils, referentes a las amígdalas, no existen, por tanto se añadirán.\n",
        "\n"
      ]
    },
    {
      "cell_type": "code",
      "metadata": {
        "id": "S9tbLq1wk-I1"
      },
      "source": [
        "i = 0;\n",
        "\n",
        "while i < 20:\n",
        "  casos_infecciosas = casos_infecciosas.append({'Disease' : 'Pharyngotonsillitis' , 'Symptom_1' : 'cough' , 'Symptom_2' : 'mild_fever', 'Symptom_3' : 'swollen_tonsils', 'Symptom_4' : 'red_tonsils', 'Symptom_5' : 'malaise'}, ignore_index=True)\n",
        "  casos_infecciosas = casos_infecciosas.append({'Disease' : 'Pharyngotonsillitis' , 'Symptom_1' : 'high_fever' , 'Symptom_2' : 'red_tonsils', 'Symptom_3' : 'malaise', 'Symptom_4' : 'swollen_tonsils', 'Symptom_5' : 'cough'}, ignore_index=True)\n",
        "  casos_infecciosas = casos_infecciosas.append({'Disease' : 'Pharyngotonsillitis' , 'Symptom_1' : 'malaise' , 'Symptom_2' : 'swollen_tonsils', 'Symptom_3' : 'cough', 'Symptom_4' : 'mild_fever'}, ignore_index=True)\n",
        "  casos_infecciosas = casos_infecciosas.append({'Disease' : 'Pharyngotonsillitis' , 'Symptom_1' : 'swollen_tonsils' , 'Symptom_2' : 'red_tonsils', 'Symptom_3' : 'high_fever', 'Symptom_4' : 'cough'}, ignore_index=True)\n",
        "  casos_infecciosas = casos_infecciosas.append({'Disease' : 'Pharyngotonsillitis' , 'Symptom_1' : 'high_fever' , 'Symptom_2' : 'cough', 'Symptom_3' : 'swollen_tonsils'}, ignore_index=True)\n",
        "  casos_infecciosas = casos_infecciosas.append({'Disease' : 'Pharyngotonsillitis' , 'Symptom_1' : 'cough' , 'Symptom_2' : 'swollen_tonsils', 'Symptom_3' : 'mild_fever'}, ignore_index=True)  \n",
        "  i = i + 1"
      ],
      "execution_count": null,
      "outputs": []
    },
    {
      "cell_type": "markdown",
      "metadata": {
        "id": "Ut0nZb-4mfv_"
      },
      "source": [
        "Por tanto, una vez añadidos los casos clínicos conseguidos gracias al proceso de web scraping realizado, este es el dataset clínico resultante de la selección de datos."
      ]
    },
    {
      "cell_type": "code",
      "metadata": {
        "colab": {
          "base_uri": "https://localhost:8080/",
          "height": 444
        },
        "id": "A9t-odPImdfe",
        "outputId": "cb9b363a-3084-4054-cfeb-6c412172ba4d"
      },
      "source": [
        "casos_infecciosas"
      ],
      "execution_count": null,
      "outputs": [
        {
          "output_type": "execute_result",
          "data": {
            "text/html": [
              "<div>\n",
              "<style scoped>\n",
              "    .dataframe tbody tr th:only-of-type {\n",
              "        vertical-align: middle;\n",
              "    }\n",
              "\n",
              "    .dataframe tbody tr th {\n",
              "        vertical-align: top;\n",
              "    }\n",
              "\n",
              "    .dataframe thead th {\n",
              "        text-align: right;\n",
              "    }\n",
              "</style>\n",
              "<table border=\"1\" class=\"dataframe\">\n",
              "  <thead>\n",
              "    <tr style=\"text-align: right;\">\n",
              "      <th></th>\n",
              "      <th>Disease</th>\n",
              "      <th>Symptom_1</th>\n",
              "      <th>Symptom_2</th>\n",
              "      <th>Symptom_3</th>\n",
              "      <th>Symptom_4</th>\n",
              "      <th>Symptom_5</th>\n",
              "      <th>Symptom_6</th>\n",
              "      <th>Symptom_7</th>\n",
              "      <th>Symptom_8</th>\n",
              "      <th>Symptom_9</th>\n",
              "      <th>Symptom_10</th>\n",
              "      <th>Symptom_11</th>\n",
              "      <th>Symptom_12</th>\n",
              "      <th>Symptom_13</th>\n",
              "      <th>Symptom_14</th>\n",
              "      <th>Symptom_15</th>\n",
              "      <th>Symptom_16</th>\n",
              "      <th>Symptom_17</th>\n",
              "    </tr>\n",
              "  </thead>\n",
              "  <tbody>\n",
              "    <tr>\n",
              "      <th>0</th>\n",
              "      <td>Fungalinfection</td>\n",
              "      <td>itching</td>\n",
              "      <td>skin_rash</td>\n",
              "      <td>nodal_skin_eruptions</td>\n",
              "      <td>dischromic_patches</td>\n",
              "      <td>NaN</td>\n",
              "      <td>NaN</td>\n",
              "      <td>NaN</td>\n",
              "      <td>NaN</td>\n",
              "      <td>NaN</td>\n",
              "      <td>NaN</td>\n",
              "      <td>NaN</td>\n",
              "      <td>NaN</td>\n",
              "      <td>NaN</td>\n",
              "      <td>NaN</td>\n",
              "      <td>NaN</td>\n",
              "      <td>NaN</td>\n",
              "      <td>NaN</td>\n",
              "    </tr>\n",
              "    <tr>\n",
              "      <th>1</th>\n",
              "      <td>Fungalinfection</td>\n",
              "      <td>skin_rash</td>\n",
              "      <td>nodal_skin_eruptions</td>\n",
              "      <td>dischromic_patches</td>\n",
              "      <td>NaN</td>\n",
              "      <td>NaN</td>\n",
              "      <td>NaN</td>\n",
              "      <td>NaN</td>\n",
              "      <td>NaN</td>\n",
              "      <td>NaN</td>\n",
              "      <td>NaN</td>\n",
              "      <td>NaN</td>\n",
              "      <td>NaN</td>\n",
              "      <td>NaN</td>\n",
              "      <td>NaN</td>\n",
              "      <td>NaN</td>\n",
              "      <td>NaN</td>\n",
              "      <td>NaN</td>\n",
              "    </tr>\n",
              "    <tr>\n",
              "      <th>2</th>\n",
              "      <td>Fungalinfection</td>\n",
              "      <td>itching</td>\n",
              "      <td>nodal_skin_eruptions</td>\n",
              "      <td>dischromic_patches</td>\n",
              "      <td>NaN</td>\n",
              "      <td>NaN</td>\n",
              "      <td>NaN</td>\n",
              "      <td>NaN</td>\n",
              "      <td>NaN</td>\n",
              "      <td>NaN</td>\n",
              "      <td>NaN</td>\n",
              "      <td>NaN</td>\n",
              "      <td>NaN</td>\n",
              "      <td>NaN</td>\n",
              "      <td>NaN</td>\n",
              "      <td>NaN</td>\n",
              "      <td>NaN</td>\n",
              "      <td>NaN</td>\n",
              "    </tr>\n",
              "    <tr>\n",
              "      <th>3</th>\n",
              "      <td>Fungalinfection</td>\n",
              "      <td>itching</td>\n",
              "      <td>skin_rash</td>\n",
              "      <td>dischromic_patches</td>\n",
              "      <td>NaN</td>\n",
              "      <td>NaN</td>\n",
              "      <td>NaN</td>\n",
              "      <td>NaN</td>\n",
              "      <td>NaN</td>\n",
              "      <td>NaN</td>\n",
              "      <td>NaN</td>\n",
              "      <td>NaN</td>\n",
              "      <td>NaN</td>\n",
              "      <td>NaN</td>\n",
              "      <td>NaN</td>\n",
              "      <td>NaN</td>\n",
              "      <td>NaN</td>\n",
              "      <td>NaN</td>\n",
              "    </tr>\n",
              "    <tr>\n",
              "      <th>4</th>\n",
              "      <td>Fungalinfection</td>\n",
              "      <td>itching</td>\n",
              "      <td>skin_rash</td>\n",
              "      <td>nodal_skin_eruptions</td>\n",
              "      <td>NaN</td>\n",
              "      <td>NaN</td>\n",
              "      <td>NaN</td>\n",
              "      <td>NaN</td>\n",
              "      <td>NaN</td>\n",
              "      <td>NaN</td>\n",
              "      <td>NaN</td>\n",
              "      <td>NaN</td>\n",
              "      <td>NaN</td>\n",
              "      <td>NaN</td>\n",
              "      <td>NaN</td>\n",
              "      <td>NaN</td>\n",
              "      <td>NaN</td>\n",
              "      <td>NaN</td>\n",
              "    </tr>\n",
              "    <tr>\n",
              "      <th>...</th>\n",
              "      <td>...</td>\n",
              "      <td>...</td>\n",
              "      <td>...</td>\n",
              "      <td>...</td>\n",
              "      <td>...</td>\n",
              "      <td>...</td>\n",
              "      <td>...</td>\n",
              "      <td>...</td>\n",
              "      <td>...</td>\n",
              "      <td>...</td>\n",
              "      <td>...</td>\n",
              "      <td>...</td>\n",
              "      <td>...</td>\n",
              "      <td>...</td>\n",
              "      <td>...</td>\n",
              "      <td>...</td>\n",
              "      <td>...</td>\n",
              "      <td>...</td>\n",
              "    </tr>\n",
              "    <tr>\n",
              "      <th>3235</th>\n",
              "      <td>Pharyngotonsillitis</td>\n",
              "      <td>high_fever</td>\n",
              "      <td>red_tonsils</td>\n",
              "      <td>malaise</td>\n",
              "      <td>swollen_tonsils</td>\n",
              "      <td>cough</td>\n",
              "      <td>NaN</td>\n",
              "      <td>NaN</td>\n",
              "      <td>NaN</td>\n",
              "      <td>NaN</td>\n",
              "      <td>NaN</td>\n",
              "      <td>NaN</td>\n",
              "      <td>NaN</td>\n",
              "      <td>NaN</td>\n",
              "      <td>NaN</td>\n",
              "      <td>NaN</td>\n",
              "      <td>NaN</td>\n",
              "      <td>NaN</td>\n",
              "    </tr>\n",
              "    <tr>\n",
              "      <th>3236</th>\n",
              "      <td>Pharyngotonsillitis</td>\n",
              "      <td>malaise</td>\n",
              "      <td>swollen_tonsils</td>\n",
              "      <td>cough</td>\n",
              "      <td>mild_fever</td>\n",
              "      <td>NaN</td>\n",
              "      <td>NaN</td>\n",
              "      <td>NaN</td>\n",
              "      <td>NaN</td>\n",
              "      <td>NaN</td>\n",
              "      <td>NaN</td>\n",
              "      <td>NaN</td>\n",
              "      <td>NaN</td>\n",
              "      <td>NaN</td>\n",
              "      <td>NaN</td>\n",
              "      <td>NaN</td>\n",
              "      <td>NaN</td>\n",
              "      <td>NaN</td>\n",
              "    </tr>\n",
              "    <tr>\n",
              "      <th>3237</th>\n",
              "      <td>Pharyngotonsillitis</td>\n",
              "      <td>swollen_tonsils</td>\n",
              "      <td>red_tonsils</td>\n",
              "      <td>high_fever</td>\n",
              "      <td>cough</td>\n",
              "      <td>NaN</td>\n",
              "      <td>NaN</td>\n",
              "      <td>NaN</td>\n",
              "      <td>NaN</td>\n",
              "      <td>NaN</td>\n",
              "      <td>NaN</td>\n",
              "      <td>NaN</td>\n",
              "      <td>NaN</td>\n",
              "      <td>NaN</td>\n",
              "      <td>NaN</td>\n",
              "      <td>NaN</td>\n",
              "      <td>NaN</td>\n",
              "      <td>NaN</td>\n",
              "    </tr>\n",
              "    <tr>\n",
              "      <th>3238</th>\n",
              "      <td>Pharyngotonsillitis</td>\n",
              "      <td>high_fever</td>\n",
              "      <td>cough</td>\n",
              "      <td>swollen_tonsils</td>\n",
              "      <td>NaN</td>\n",
              "      <td>NaN</td>\n",
              "      <td>NaN</td>\n",
              "      <td>NaN</td>\n",
              "      <td>NaN</td>\n",
              "      <td>NaN</td>\n",
              "      <td>NaN</td>\n",
              "      <td>NaN</td>\n",
              "      <td>NaN</td>\n",
              "      <td>NaN</td>\n",
              "      <td>NaN</td>\n",
              "      <td>NaN</td>\n",
              "      <td>NaN</td>\n",
              "      <td>NaN</td>\n",
              "    </tr>\n",
              "    <tr>\n",
              "      <th>3239</th>\n",
              "      <td>Pharyngotonsillitis</td>\n",
              "      <td>cough</td>\n",
              "      <td>swollen_tonsils</td>\n",
              "      <td>mild_fever</td>\n",
              "      <td>NaN</td>\n",
              "      <td>NaN</td>\n",
              "      <td>NaN</td>\n",
              "      <td>NaN</td>\n",
              "      <td>NaN</td>\n",
              "      <td>NaN</td>\n",
              "      <td>NaN</td>\n",
              "      <td>NaN</td>\n",
              "      <td>NaN</td>\n",
              "      <td>NaN</td>\n",
              "      <td>NaN</td>\n",
              "      <td>NaN</td>\n",
              "      <td>NaN</td>\n",
              "      <td>NaN</td>\n",
              "    </tr>\n",
              "  </tbody>\n",
              "</table>\n",
              "<p>3240 rows × 18 columns</p>\n",
              "</div>"
            ],
            "text/plain": [
              "                  Disease        Symptom_1  ... Symptom_16 Symptom_17\n",
              "0         Fungalinfection          itching  ...        NaN        NaN\n",
              "1         Fungalinfection        skin_rash  ...        NaN        NaN\n",
              "2         Fungalinfection          itching  ...        NaN        NaN\n",
              "3         Fungalinfection          itching  ...        NaN        NaN\n",
              "4         Fungalinfection          itching  ...        NaN        NaN\n",
              "...                   ...              ...  ...        ...        ...\n",
              "3235  Pharyngotonsillitis       high_fever  ...        NaN        NaN\n",
              "3236  Pharyngotonsillitis          malaise  ...        NaN        NaN\n",
              "3237  Pharyngotonsillitis  swollen_tonsils  ...        NaN        NaN\n",
              "3238  Pharyngotonsillitis       high_fever  ...        NaN        NaN\n",
              "3239  Pharyngotonsillitis            cough  ...        NaN        NaN\n",
              "\n",
              "[3240 rows x 18 columns]"
            ]
          },
          "metadata": {
            "tags": []
          },
          "execution_count": 27
        }
      ]
    },
    {
      "cell_type": "markdown",
      "metadata": {
        "id": "yrPE4-6DwJ-4"
      },
      "source": [
        "# 5. Exportación de datos\n",
        "\n",
        "Por último, convertimos el dataframe en un archivo CSV, para poder descargarlo."
      ]
    },
    {
      "cell_type": "code",
      "metadata": {
        "id": "PHLnLo-r0NOu"
      },
      "source": [
        "casos_infecciosas.to_csv(\"casos_infecciosas.csv\")"
      ],
      "execution_count": null,
      "outputs": []
    }
  ]
}